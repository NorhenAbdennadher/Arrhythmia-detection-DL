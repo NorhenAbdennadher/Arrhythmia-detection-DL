{
  "cells": [
    {
      "cell_type": "markdown",
      "source": [
        "\n",
        "###### HUMAN DATA ANALYTICS EXAM\n",
        "Done by :    - Norhen Abdennadher , ID : 2058386\n",
        "             - Achraf Sahnoun , ID : 2058388\n",
        "\n",
        "Professors : - Professor Michele Rossi\n",
        "             - Professor Francesca Meneghello\n",
        "\n"
      ],
      "metadata": {
        "id": "FXwbTg1kgRtb"
      }
    },
    {
      "cell_type": "markdown",
      "metadata": {
        "id": "ND-q5dj1mj9l"
      },
      "source": [
        "# Detecting arrythmia using Deep Leaning"
      ]
    },
    {
      "cell_type": "markdown",
      "metadata": {
        "id": "Qg3ZnFJFmj-D"
      },
      "source": [
        "Installing required libraries"
      ]
    },
    {
      "cell_type": "code",
      "execution_count": null,
      "metadata": {
        "colab": {
          "base_uri": "https://localhost:8080/",
          "height": 696
        },
        "id": "6wWwYtPupUn4",
        "outputId": "668df51a-b919-4f29-d270-bf0eef129f62"
      },
      "outputs": [
        {
          "output_type": "stream",
          "name": "stdout",
          "text": [
            "Collecting wfdb\n",
            "  Downloading wfdb-3.4.1-py3-none-any.whl (137 kB)\n",
            "\u001b[?25l\r\u001b[K     |██▍                             | 10 kB 18.7 MB/s eta 0:00:01\r\u001b[K     |████▊                           | 20 kB 8.7 MB/s eta 0:00:01\r\u001b[K     |███████▏                        | 30 kB 8.8 MB/s eta 0:00:01\r\u001b[K     |█████████▌                      | 40 kB 8.2 MB/s eta 0:00:01\r\u001b[K     |████████████                    | 51 kB 5.1 MB/s eta 0:00:01\r\u001b[K     |██████████████▎                 | 61 kB 5.4 MB/s eta 0:00:01\r\u001b[K     |████████████████▋               | 71 kB 5.3 MB/s eta 0:00:01\r\u001b[K     |███████████████████             | 81 kB 6.0 MB/s eta 0:00:01\r\u001b[K     |█████████████████████▍          | 92 kB 6.0 MB/s eta 0:00:01\r\u001b[K     |███████████████████████▉        | 102 kB 5.0 MB/s eta 0:00:01\r\u001b[K     |██████████████████████████▏     | 112 kB 5.0 MB/s eta 0:00:01\r\u001b[K     |████████████████████████████▋   | 122 kB 5.0 MB/s eta 0:00:01\r\u001b[K     |███████████████████████████████ | 133 kB 5.0 MB/s eta 0:00:01\r\u001b[K     |████████████████████████████████| 137 kB 5.0 MB/s \n",
            "\u001b[?25hRequirement already satisfied: numpy>=1.10.1 in /usr/local/lib/python3.7/dist-packages (from wfdb) (1.21.5)\n",
            "Requirement already satisfied: requests>=2.8.1 in /usr/local/lib/python3.7/dist-packages (from wfdb) (2.23.0)\n",
            "Collecting matplotlib>=3.3.4\n",
            "  Downloading matplotlib-3.5.1-cp37-cp37m-manylinux_2_5_x86_64.manylinux1_x86_64.whl (11.2 MB)\n",
            "\u001b[K     |████████████████████████████████| 11.2 MB 64.6 MB/s \n",
            "\u001b[?25hRequirement already satisfied: scipy>=0.17.0 in /usr/local/lib/python3.7/dist-packages (from wfdb) (1.4.1)\n",
            "Requirement already satisfied: pandas>=0.17.0 in /usr/local/lib/python3.7/dist-packages (from wfdb) (1.3.5)\n",
            "Requirement already satisfied: cycler>=0.10 in /usr/local/lib/python3.7/dist-packages (from matplotlib>=3.3.4->wfdb) (0.11.0)\n",
            "Collecting fonttools>=4.22.0\n",
            "  Downloading fonttools-4.29.1-py3-none-any.whl (895 kB)\n",
            "\u001b[K     |████████████████████████████████| 895 kB 55.5 MB/s \n",
            "\u001b[?25hRequirement already satisfied: pillow>=6.2.0 in /usr/local/lib/python3.7/dist-packages (from matplotlib>=3.3.4->wfdb) (7.1.2)\n",
            "Requirement already satisfied: pyparsing>=2.2.1 in /usr/local/lib/python3.7/dist-packages (from matplotlib>=3.3.4->wfdb) (3.0.7)\n",
            "Requirement already satisfied: kiwisolver>=1.0.1 in /usr/local/lib/python3.7/dist-packages (from matplotlib>=3.3.4->wfdb) (1.3.2)\n",
            "Requirement already satisfied: python-dateutil>=2.7 in /usr/local/lib/python3.7/dist-packages (from matplotlib>=3.3.4->wfdb) (2.8.2)\n",
            "Requirement already satisfied: packaging>=20.0 in /usr/local/lib/python3.7/dist-packages (from matplotlib>=3.3.4->wfdb) (21.3)\n",
            "Requirement already satisfied: pytz>=2017.3 in /usr/local/lib/python3.7/dist-packages (from pandas>=0.17.0->wfdb) (2018.9)\n",
            "Requirement already satisfied: six>=1.5 in /usr/local/lib/python3.7/dist-packages (from python-dateutil>=2.7->matplotlib>=3.3.4->wfdb) (1.15.0)\n",
            "Requirement already satisfied: idna<3,>=2.5 in /usr/local/lib/python3.7/dist-packages (from requests>=2.8.1->wfdb) (2.10)\n",
            "Requirement already satisfied: certifi>=2017.4.17 in /usr/local/lib/python3.7/dist-packages (from requests>=2.8.1->wfdb) (2021.10.8)\n",
            "Requirement already satisfied: urllib3!=1.25.0,!=1.25.1,<1.26,>=1.21.1 in /usr/local/lib/python3.7/dist-packages (from requests>=2.8.1->wfdb) (1.24.3)\n",
            "Requirement already satisfied: chardet<4,>=3.0.2 in /usr/local/lib/python3.7/dist-packages (from requests>=2.8.1->wfdb) (3.0.4)\n",
            "Installing collected packages: fonttools, matplotlib, wfdb\n",
            "  Attempting uninstall: matplotlib\n",
            "    Found existing installation: matplotlib 3.2.2\n",
            "    Uninstalling matplotlib-3.2.2:\n",
            "      Successfully uninstalled matplotlib-3.2.2\n",
            "\u001b[31mERROR: pip's dependency resolver does not currently take into account all the packages that are installed. This behaviour is the source of the following dependency conflicts.\n",
            "albumentations 0.1.12 requires imgaug<0.2.7,>=0.2.5, but you have imgaug 0.2.9 which is incompatible.\u001b[0m\n",
            "Successfully installed fonttools-4.29.1 matplotlib-3.5.1 wfdb-3.4.1\n"
          ]
        },
        {
          "output_type": "display_data",
          "data": {
            "application/vnd.colab-display-data+json": {
              "pip_warning": {
                "packages": [
                  "matplotlib",
                  "mpl_toolkits"
                ]
              }
            }
          },
          "metadata": {}
        }
      ],
      "source": [
        "!pip install wfdb"
      ]
    },
    {
      "cell_type": "code",
      "execution_count": null,
      "metadata": {
        "colab": {
          "base_uri": "https://localhost:8080/",
          "height": 609
        },
        "id": "c66RnHelJQYv",
        "outputId": "647b209d-4762-4020-e72e-6f884d9f8bb0"
      },
      "outputs": [
        {
          "output_type": "stream",
          "name": "stdout",
          "text": [
            "Found existing installation: matplotlib 3.5.1\n",
            "Uninstalling matplotlib-3.5.1:\n",
            "  Would remove:\n",
            "    /usr/local/lib/python3.7/dist-packages/matplotlib-3.5.1-py3.7-nspkg.pth\n",
            "    /usr/local/lib/python3.7/dist-packages/matplotlib-3.5.1.dist-info/*\n",
            "    /usr/local/lib/python3.7/dist-packages/matplotlib/*\n",
            "    /usr/local/lib/python3.7/dist-packages/mpl_toolkits/axes_grid/*\n",
            "    /usr/local/lib/python3.7/dist-packages/mpl_toolkits/axes_grid1/*\n",
            "    /usr/local/lib/python3.7/dist-packages/mpl_toolkits/axisartist/*\n",
            "    /usr/local/lib/python3.7/dist-packages/mpl_toolkits/mplot3d/*\n",
            "    /usr/local/lib/python3.7/dist-packages/mpl_toolkits/tests/*\n",
            "    /usr/local/lib/python3.7/dist-packages/pylab.py\n",
            "Proceed (y/n)? y\n",
            "  Successfully uninstalled matplotlib-3.5.1\n",
            "Collecting matplotlib==3.1.3\n",
            "  Downloading matplotlib-3.1.3-cp37-cp37m-manylinux1_x86_64.whl (13.1 MB)\n",
            "\u001b[K     |████████████████████████████████| 13.1 MB 5.1 MB/s \n",
            "\u001b[?25hRequirement already satisfied: pyparsing!=2.0.4,!=2.1.2,!=2.1.6,>=2.0.1 in /usr/local/lib/python3.7/dist-packages (from matplotlib==3.1.3) (3.0.7)\n",
            "Requirement already satisfied: numpy>=1.11 in /usr/local/lib/python3.7/dist-packages (from matplotlib==3.1.3) (1.21.5)\n",
            "Requirement already satisfied: python-dateutil>=2.1 in /usr/local/lib/python3.7/dist-packages (from matplotlib==3.1.3) (2.8.2)\n",
            "Requirement already satisfied: cycler>=0.10 in /usr/local/lib/python3.7/dist-packages (from matplotlib==3.1.3) (0.11.0)\n",
            "Requirement already satisfied: kiwisolver>=1.0.1 in /usr/local/lib/python3.7/dist-packages (from matplotlib==3.1.3) (1.3.2)\n",
            "Requirement already satisfied: six>=1.5 in /usr/local/lib/python3.7/dist-packages (from python-dateutil>=2.1->matplotlib==3.1.3) (1.15.0)\n",
            "Installing collected packages: matplotlib\n",
            "\u001b[31mERROR: pip's dependency resolver does not currently take into account all the packages that are installed. This behaviour is the source of the following dependency conflicts.\n",
            "wfdb 3.4.1 requires matplotlib>=3.3.4, but you have matplotlib 3.1.3 which is incompatible.\n",
            "albumentations 0.1.12 requires imgaug<0.2.7,>=0.2.5, but you have imgaug 0.2.9 which is incompatible.\u001b[0m\n",
            "Successfully installed matplotlib-3.1.3\n"
          ]
        },
        {
          "output_type": "display_data",
          "data": {
            "application/vnd.colab-display-data+json": {
              "pip_warning": {
                "packages": [
                  "matplotlib",
                  "mpl_toolkits"
                ]
              }
            }
          },
          "metadata": {}
        }
      ],
      "source": [
        "!pip uninstall matplotlib\n",
        "!pip install matplotlib==3.1.3"
      ]
    },
    {
      "cell_type": "code",
      "execution_count": null,
      "metadata": {
        "id": "Eh0lhkVdoIdC",
        "colab": {
          "base_uri": "https://localhost:8080/"
        },
        "outputId": "8fb30216-cdf5-480c-8367-df805b782c7f"
      },
      "outputs": [
        {
          "output_type": "stream",
          "name": "stdout",
          "text": [
            "Collecting wget\n",
            "  Downloading wget-3.2.zip (10 kB)\n",
            "Building wheels for collected packages: wget\n",
            "  Building wheel for wget (setup.py) ... \u001b[?25l\u001b[?25hdone\n",
            "  Created wheel for wget: filename=wget-3.2-py3-none-any.whl size=9675 sha256=82c4794f126bb1417acea2bf0207755cdcab52885183b6a2585ab515ceaecf34\n",
            "  Stored in directory: /root/.cache/pip/wheels/a1/b6/7c/0e63e34eb06634181c63adacca38b79ff8f35c37e3c13e3c02\n",
            "Successfully built wget\n",
            "Installing collected packages: wget\n",
            "Successfully installed wget-3.2\n"
          ]
        }
      ],
      "source": [
        "!pip install wget"
      ]
    },
    {
      "cell_type": "markdown",
      "metadata": {
        "id": "moyM0FBLCTsi"
      },
      "source": [
        "Import required modules"
      ]
    },
    {
      "cell_type": "code",
      "execution_count": null,
      "metadata": {
        "id": "JGr0bCzBmj-I"
      },
      "outputs": [],
      "source": [
        "import numpy as np\n",
        "import pandas as pd\n",
        "import matplotlib.pyplot as plt\n",
        "from sklearn.model_selection import train_test_split\n",
        "from sklearn.preprocessing import StandardScaler\n",
        "from pathlib import Path\n",
        "from os import listdir\n",
        "import wfdb\n",
        "from keras.models import Sequential\n",
        "from keras.layers import Conv1D, LSTM, Dense, Dropout, TimeDistributed\n",
        "from tensorflow.keras.optimizers import Adam\n",
        "import wget\n",
        "from zipfile import ZipFile\n",
        "\n",
        "\n"
      ]
    },
    {
      "cell_type": "markdown",
      "metadata": {
        "id": "k9yw40Dlmj-Y"
      },
      "source": [
        "## Download MIT BIH Arrythmia Dataset"
      ]
    },
    {
      "cell_type": "code",
      "execution_count": null,
      "metadata": {
        "id": "9k96QKSAmj-a"
      },
      "outputs": [],
      "source": [
        "import zipfile\n",
        "\n",
        "#Path of the dataset zip file\n",
        "database_path = \"/content/mit-bih-arrhythmia-database-1.0.0.zip\"\n",
        " \n",
        "with zipfile.ZipFile(database_path, 'r') as zip_ref:\n",
        "   zip_ref.extractall(\".\")"
      ]
    },
    {
      "cell_type": "markdown",
      "metadata": {
        "id": "Y-fVWS4Dmj-f"
      },
      "source": [
        "## Loading data"
      ]
    },
    {
      "cell_type": "markdown",
      "metadata": {
        "id": "f_9Z7n1Dmj-i"
      },
      "source": [
        "Loading list of records available, from dataset available [here](https://physionet.org/content/mitdb/1.0.0/)"
      ]
    },
    {
      "cell_type": "code",
      "execution_count": null,
      "metadata": {
        "id": "sE8lWVeImj-m"
      },
      "outputs": [],
      "source": [
        "#RECORDS file contains the name of the records corresponding to the subjects of the MIT BIH dataset\n",
        "records = np.loadtxt(\"/content/mit-bih-arrhythmia-database-1.0.0/RECORDS\", dtype=int)"
      ]
    },
    {
      "cell_type": "markdown",
      "metadata": {
        "id": "N46rTi1Imj-p"
      },
      "source": [
        "Defining invalid beats as well as abnormal beats, according to [Physiobank](https://archive.physionet.org/physiobank/annotations.shtml)"
      ]
    },
    {
      "cell_type": "code",
      "execution_count": null,
      "metadata": {
        "id": "yADgx066mj-r"
      },
      "outputs": [],
      "source": [
        "#The standard set of annotation codes was originally defined for ECGs, and includes both beat annotations and non-beat annotations. \n",
        "#Invalid beats are beats that will be discarded from the dataset\n",
        "invalid_beats = [\n",
        "    \"[\", \"!\", \"]\", \"x\", \"(\", \")\", \"p\", \"t\", \n",
        "    \"u\", \"`\", \"'\", \"^\", \"|\", \"~\", \"+\", \"s\", \n",
        "    \"T\", \"*\", \"D\", \"=\", '\"', \"@\"\n",
        "]\n",
        "#abnormal beats are beats with different types of anomalies\n",
        "abnormal_beats = [\n",
        "    \"L\", \"R\", \"B\", \"A\", \"a\", \"J\", \"S\", \"V\", \n",
        "    \"r\", \"F\", \"e\", \"j\", \"n\", \"E\", \"/\", \"f\", \"Q\", \"?\"\n",
        "]"
      ]
    },
    {
      "cell_type": "markdown",
      "metadata": {
        "id": "E4Q7V_43P5Pq"
      },
      "source": [
        "##Data exploration"
      ]
    },
    {
      "cell_type": "code",
      "execution_count": null,
      "metadata": {
        "id": "_4VtACiBi8va"
      },
      "outputs": [],
      "source": [
        "#Path of extracted dataset\n",
        "dataset_path = 'mit-bih-arrhythmia-database-1.0.0/'\n",
        "# list of patients\n",
        "patients = ['100','101','102','103','104','105','106','107',\n",
        "       '108','109','111','112','113','114','115','116',\n",
        "       '117','118','119','121','122','123','124','200',\n",
        "       '201','202','203','205','207','208','209','210',\n",
        "       '212','213','214','215','217','219','220','221',\n",
        "       '222','223','228','230','231','232','233','234']"
      ]
    },
    {
      "cell_type": "code",
      "execution_count": null,
      "metadata": {
        "id": "gP0msQLQjqtD"
      },
      "outputs": [],
      "source": [
        "df = pd.DataFrame()\n",
        "#we will load all the annotations in order to see the distribution of heart beat types across all files.\n",
        "for pt in patients:\n",
        "    file = dataset_path + pt\n",
        "    annotation = wfdb.rdann(file, 'atr')\n",
        "    sym = annotation.symbol\n",
        "    \n",
        "    values, counts = np.unique(sym, return_counts=True)\n",
        "    df_sub = pd.DataFrame({'sym':values, 'val':counts, 'pt':[pt]*len(counts)})\n",
        "    df = pd.concat([df, df_sub],axis = 0)"
      ]
    },
    {
      "cell_type": "code",
      "execution_count": null,
      "metadata": {
        "id": "imSmf0IZkyHD",
        "colab": {
          "base_uri": "https://localhost:8080/"
        },
        "outputId": "1d4607ee-51d4-457f-9f06-4d225db95c68"
      },
      "outputs": [
        {
          "output_type": "execute_result",
          "data": {
            "text/plain": [
              "sym\n",
              "N    75052\n",
              "L     8075\n",
              "R     7259\n",
              "V     7130\n",
              "/     7028\n",
              "A     2546\n",
              "+     1291\n",
              "f      982\n",
              "F      803\n",
              "~      616\n",
              "!      472\n",
              "\"      437\n",
              "j      229\n",
              "x      193\n",
              "a      150\n",
              "|      132\n",
              "E      106\n",
              "J       83\n",
              "Q       33\n",
              "e       16\n",
              "[        6\n",
              "]        6\n",
              "S        2\n",
              "Name: val, dtype: int64"
            ]
          },
          "metadata": {},
          "execution_count": 10
        }
      ],
      "source": [
        "df.groupby('sym').val.sum().sort_values(ascending = False)\n"
      ]
    },
    {
      "cell_type": "code",
      "execution_count": null,
      "metadata": {
        "id": "hrsUa1Crk4z4"
      },
      "outputs": [],
      "source": [
        "#The following function will be useful for loading a single patient's signals and annotations. \n",
        "def load_ecg(file):\n",
        "    # The example of file: '/content/mit-bih-arrhythmia-database-1.0.0/101'\n",
        "    # load the ecg\n",
        "    record = wfdb.rdrecord(file)\n",
        "    # load the annotation\n",
        "    annotation = wfdb.rdann(file, 'atr')\n",
        "    # extract the signal\n",
        "    p_signal = record.p_signal\n",
        "    # verify frequency is 360\n",
        "    assert record.fs == 360, 'sample freq is not 360'\n",
        "    # extraction of the symbols and annotation index\n",
        "    atr_symbols = annotation.symbol\n",
        "    atr_sample = annotation.sample\n",
        "    \n",
        "    return p_signal, atr_symbols, atr_sample "
      ]
    },
    {
      "cell_type": "code",
      "execution_count": null,
      "metadata": {
        "id": "fkTZmLBslJha",
        "colab": {
          "base_uri": "https://localhost:8080/"
        },
        "outputId": "0131cffa-5c79-4e9b-dfe3-7ec44006d17e"
      },
      "outputs": [
        {
          "output_type": "stream",
          "name": "stdout",
          "text": [
            "+ 3\n",
            "J 50\n",
            "N 2700\n",
            "V 3\n",
            "~ 8\n"
          ]
        }
      ],
      "source": [
        "#Let's check out what abnormal beats are in a patient's ecg:\n",
        "file = dataset_path + patients[5]\n",
        "p_signal, atr_symbols, atr_sample = load_ecg(file)\n",
        "values, counts = np.unique(sym, return_counts=True)\n",
        "for v,c in zip(values, counts):\n",
        "    print(v,c)"
      ]
    },
    {
      "cell_type": "code",
      "execution_count": null,
      "metadata": {
        "id": "5G0WNRJFlX7y"
      },
      "outputs": [],
      "source": [
        "# get abnormal beat index\n",
        "abnormal_index = [b for a,b in zip(atr_symbols,atr_sample) if a in abnormal_beats][:10]\n",
        "abnormal_index\n",
        "x = np.arange(len(p_signal))"
      ]
    },
    {
      "cell_type": "code",
      "execution_count": null,
      "metadata": {
        "id": "ZeJDdpZvlepV",
        "colab": {
          "base_uri": "https://localhost:8080/",
          "height": 279
        },
        "outputId": "98267482-100a-4d23-ac57-d92de0c8d745"
      },
      "outputs": [
        {
          "output_type": "display_data",
          "data": {
            "image/png": "[encoded data removed]",
            "text/plain": [
              "<Figure size 432x288 with 1 Axes>"
            ]
          },
          "metadata": {
            "needs_background": "light"
          }
        }
      ],
      "source": [
        "left = abnormal_index[1]-1080\n",
        "right = abnormal_index[1]+1080\n",
        "\n",
        "plt.plot(x[left:right],p_signal[left:right,0],'-',label='ecg',)\n",
        "plt.plot(x[atr_sample],p_signal[atr_sample,0],'go',label ='normal')\n",
        "plt.plot(x[abnormal_index],p_signal[abnormal_index,0],'ro',label='abnormal')\n",
        "\n",
        "plt.xlim(left,right)\n",
        "plt.ylim(p_signal[left:right].min()-0.05,p_signal[left:right,0].max()+0.05)\n",
        "plt.xlabel('time index')\n",
        "plt.ylabel('ECG signal')\n",
        "plt.legend(bbox_to_anchor = (1.04,1), loc = 'upper left')\n",
        "plt.show()"
      ]
    },
    {
      "cell_type": "markdown",
      "metadata": {
        "id": "noaTXk80mj-u"
      },
      "source": [
        "## Processing dataset"
      ]
    },
    {
      "cell_type": "code",
      "execution_count": null,
      "metadata": {
        "id": "GX3S8uH4mj-y"
      },
      "outputs": [],
      "source": [
        "#This function classify a beat according to its symbol and the list provided above.\n",
        "#This function classifies a beat into normal (0) or abnormal heartbeats (1)\n",
        "#Normal beat (displayed as \"·\" by the PhysioBank ATM, LightWAVE, pschart, and psfd)\n",
        "def classify_beat(symbol):\n",
        "    if symbol in abnormal_beats:\n",
        "        return 1\n",
        "    elif symbol == \"N\" or symbol == \".\":\n",
        "        return 0    "
      ]
    },
    {
      "cell_type": "markdown",
      "metadata": {
        "id": "KkuuKG8Gmj-0"
      },
      "source": [
        "Given a signal, the beat location, and the window to be used as a sequence, this function gets the sequence. It will return an empty array in case of an invalid beat or empty sequence."
      ]
    },
    {
      "cell_type": "code",
      "execution_count": null,
      "metadata": {
        "id": "CqjZvfI-mj-2"
      },
      "outputs": [],
      "source": [
        "#This function takes as argument the original signal, the location of the heartbeat, window size in seconds and the sampling frequency\n",
        "def get_sequence(signal, beat_location, window_sec, fs):\n",
        "    window_one_side = window_sec * fs\n",
        "    beat_begin = beat_location - window_one_side\n",
        "    beat_end = beat_location + window_one_side\n",
        "    if beat_end < signal.shape[0]: #make sure the beat's end doesn't exceed the length of the signal\n",
        "        sequence = signal[beat_begin:beat_end, 0] #the signal is composed by two channels, we take the first one 'MLII'\n",
        "        return sequence.reshape(1, -1, 1)\n",
        "    else:\n",
        "        return np.array([]) #else return an empty sequence"
      ]
    },
    {
      "cell_type": "markdown",
      "metadata": {
        "id": "W23FjWYwmj-3"
      },
      "source": [
        "The code below will build a list of labels and sequences as well as map the sequences for each patient. The percentage calculated represents the ratio of abnormal beats in each patient data."
      ]
    },
    {
      "cell_type": "code",
      "execution_count": null,
      "metadata": {
        "id": "ZKn_nsaDmj-5"
      },
      "outputs": [],
      "source": [
        "all_sequences = []\n",
        "all_labels = []\n",
        "window_sec = 3\n",
        "subject_map = []\n",
        "#iterate over the different records \n",
        "for subject in records:\n",
        "    #read record for subject x\n",
        "    record = wfdb.rdrecord(f'mit-bih-arrhythmia-database-1.0.0/{subject}')\n",
        "    #read annotation file for subject x\n",
        "    annotation = wfdb.rdann(f'mit-bih-arrhythmia-database-1.0.0/{subject}', 'atr')\n",
        "    #atr_symbol contains the annotation of each beat (normal or PVC or ...)\n",
        "    atr_symbol = annotation.symbol\n",
        "    #atr_sample contains the location of the R position in the dataset\n",
        "    atr_sample = annotation.sample\n",
        "    #sampling frequency\n",
        "    fs = record.fs\n",
        "    #standardize features by removing the mean and scaling to unit variance\n",
        "    scaler = StandardScaler()\n",
        "    #standardize the signal\n",
        "    signal = scaler.fit_transform(record.p_signal)\n",
        "    subject_labels = []\n",
        "    #enumerate over the location of the beats, i is the index and i_sample is the location\n",
        "    for i, i_sample in enumerate(atr_sample):\n",
        "        #classify the symbol into normal and abnormal, if normal 0, if abnormal 1, else None\n",
        "        label = classify_beat(atr_symbol[i])\n",
        "        #get the sequence related to that heartbeat\n",
        "        sequence = get_sequence(signal, i_sample, window_sec, fs)\n",
        "        #verify that the beat is valid and the sequence is not empty\n",
        "        if label is not None and sequence.size > 0:\n",
        "            #append the sequences in one ssequence for the same record\n",
        "            all_sequences.append(sequence)\n",
        "            #subject labels contains labels for the subject\n",
        "            subject_labels.append(label)\n",
        "    #the percentage of normal beats\n",
        "    normal_percentage = sum(subject_labels) / len(subject_labels)\n",
        "    subject_map.append({\n",
        "        \"subject\": subject,\n",
        "        \"percentage\": normal_percentage,\n",
        "        \"num_seq\": len(subject_labels),\n",
        "        \"start\": len(all_labels),\n",
        "        \"end\": len(all_labels)+len(subject_labels)\n",
        "    })\n",
        "    all_labels.extend(subject_labels)\n",
        "    #after executing this cell, all sequences will contain all sequences and all labels for each subjects"
      ]
    },
    {
      "cell_type": "code",
      "execution_count": null,
      "metadata": {
        "id": "JpQpQ2pQqEQW",
        "colab": {
          "base_uri": "https://localhost:8080/"
        },
        "outputId": "ba2cd486-b762-451d-c0b8-4ef699ac290b"
      },
      "outputs": [
        {
          "output_type": "execute_result",
          "data": {
            "text/plain": [
              "[{'end': 2264,\n",
              "  'num_seq': 2264,\n",
              "  'percentage': 0.015017667844522967,\n",
              "  'start': 0,\n",
              "  'subject': 100},\n",
              " {'end': 4122,\n",
              "  'num_seq': 1858,\n",
              "  'percentage': 0.002691065662002153,\n",
              "  'start': 2264,\n",
              "  'subject': 101},\n",
              " {'end': 6301,\n",
              "  'num_seq': 2179,\n",
              "  'percentage': 0.9545663148233134,\n",
              "  'start': 4122,\n",
              "  'subject': 102},\n",
              " {'end': 8379,\n",
              "  'num_seq': 2078,\n",
              "  'percentage': 0.0009624639076034649,\n",
              "  'start': 6301,\n",
              "  'subject': 103},\n",
              " {'end': 10600,\n",
              "  'num_seq': 2221,\n",
              "  'percentage': 0.9266096352994146,\n",
              "  'start': 8379,\n",
              "  'subject': 104},\n",
              " {'end': 13164,\n",
              "  'num_seq': 2564,\n",
              "  'percentage': 0.01794071762870515,\n",
              "  'start': 10600,\n",
              "  'subject': 105},\n",
              " {'end': 15185,\n",
              "  'num_seq': 2021,\n",
              "  'percentage': 0.25630875804057396,\n",
              "  'start': 13164,\n",
              "  'subject': 106},\n",
              " {'end': 17315,\n",
              "  'num_seq': 2130,\n",
              "  'percentage': 1.0,\n",
              "  'start': 15185,\n",
              "  'subject': 107},\n",
              " {'end': 19072,\n",
              "  'num_seq': 1757,\n",
              "  'percentage': 0.013659647125782584,\n",
              "  'start': 17315,\n",
              "  'subject': 108},\n",
              " {'end': 21595,\n",
              "  'num_seq': 2523,\n",
              "  'percentage': 1.0,\n",
              "  'start': 19072,\n",
              "  'subject': 109},\n",
              " {'end': 23713,\n",
              "  'num_seq': 2118,\n",
              "  'percentage': 1.0,\n",
              "  'start': 21595,\n",
              "  'subject': 111},\n",
              " {'end': 26244,\n",
              "  'num_seq': 2531,\n",
              "  'percentage': 0.0007902015013828526,\n",
              "  'start': 23713,\n",
              "  'subject': 112},\n",
              " {'end': 28032,\n",
              "  'num_seq': 1788,\n",
              "  'percentage': 0.003355704697986577,\n",
              "  'start': 26244,\n",
              "  'subject': 113},\n",
              " {'end': 29905,\n",
              "  'num_seq': 1873,\n",
              "  'percentage': 0.03150026695141484,\n",
              "  'start': 28032,\n",
              "  'subject': 114},\n",
              " {'end': 31851,\n",
              "  'num_seq': 1946,\n",
              "  'percentage': 0.0,\n",
              "  'start': 29905,\n",
              "  'subject': 115},\n",
              " {'end': 34255,\n",
              "  'num_seq': 2404,\n",
              "  'percentage': 0.045757071547420966,\n",
              "  'start': 31851,\n",
              "  'subject': 116},\n",
              " {'end': 35784,\n",
              "  'num_seq': 1529,\n",
              "  'percentage': 0.0006540222367560497,\n",
              "  'start': 34255,\n",
              "  'subject': 117},\n",
              " {'end': 38055,\n",
              "  'num_seq': 2271,\n",
              "  'percentage': 1.0,\n",
              "  'start': 35784,\n",
              "  'subject': 118},\n",
              " {'end': 40036,\n",
              "  'num_seq': 1981,\n",
              "  'percentage': 0.22362443210499747,\n",
              "  'start': 38055,\n",
              "  'subject': 119},\n",
              " {'end': 41892,\n",
              "  'num_seq': 1856,\n",
              "  'percentage': 0.0010775862068965517,\n",
              "  'start': 40036,\n",
              "  'subject': 121},\n",
              " {'end': 44359,\n",
              "  'num_seq': 2467,\n",
              "  'percentage': 0.0,\n",
              "  'start': 41892,\n",
              "  'subject': 122},\n",
              " {'end': 45871,\n",
              "  'num_seq': 1512,\n",
              "  'percentage': 0.001984126984126984,\n",
              "  'start': 44359,\n",
              "  'subject': 123},\n",
              " {'end': 47485,\n",
              "  'num_seq': 1614,\n",
              "  'percentage': 1.0,\n",
              "  'start': 45871,\n",
              "  'subject': 124},\n",
              " {'end': 50078,\n",
              "  'num_seq': 2593,\n",
              "  'percentage': 0.3301195526417277,\n",
              "  'start': 47485,\n",
              "  'subject': 200},\n",
              " {'end': 52035,\n",
              "  'num_seq': 1957,\n",
              "  'percentage': 0.17271333673990802,\n",
              "  'start': 50078,\n",
              "  'subject': 201},\n",
              " {'end': 54165,\n",
              "  'num_seq': 2130,\n",
              "  'percentage': 0.035211267605633804,\n",
              "  'start': 52035,\n",
              "  'subject': 202},\n",
              " {'end': 57136,\n",
              "  'num_seq': 2971,\n",
              "  'percentage': 0.15180074049141704,\n",
              "  'start': 54165,\n",
              "  'subject': 203},\n",
              " {'end': 59784,\n",
              "  'num_seq': 2648,\n",
              "  'percentage': 0.03209969788519638,\n",
              "  'start': 57136,\n",
              "  'subject': 205},\n",
              " {'end': 61635,\n",
              "  'num_seq': 1851,\n",
              "  'percentage': 1.0,\n",
              "  'start': 59784,\n",
              "  'subject': 207},\n",
              " {'end': 64581,\n",
              "  'num_seq': 2946,\n",
              "  'percentage': 0.46300067888662594,\n",
              "  'start': 61635,\n",
              "  'subject': 208},\n",
              " {'end': 67578,\n",
              "  'num_seq': 2997,\n",
              "  'percentage': 0.12812812812812813,\n",
              "  'start': 64581,\n",
              "  'subject': 209},\n",
              " {'end': 70218,\n",
              "  'num_seq': 2640,\n",
              "  'percentage': 0.08522727272727272,\n",
              "  'start': 67578,\n",
              "  'subject': 210},\n",
              " {'end': 72958,\n",
              "  'num_seq': 2740,\n",
              "  'percentage': 0.6645985401459854,\n",
              "  'start': 70218,\n",
              "  'subject': 212},\n",
              " {'end': 76197,\n",
              "  'num_seq': 3239,\n",
              "  'percentage': 0.1883297313985798,\n",
              "  'start': 72958,\n",
              "  'subject': 213},\n",
              " {'end': 78451,\n",
              "  'num_seq': 2254,\n",
              "  'percentage': 1.0,\n",
              "  'start': 76197,\n",
              "  'subject': 214},\n",
              " {'end': 81804,\n",
              "  'num_seq': 3353,\n",
              "  'percentage': 0.05010438413361169,\n",
              "  'start': 78451,\n",
              "  'subject': 215},\n",
              " {'end': 84006,\n",
              "  'num_seq': 2202,\n",
              "  'percentage': 0.8891916439600364,\n",
              "  'start': 81804,\n",
              "  'subject': 217},\n",
              " {'end': 86154,\n",
              "  'num_seq': 2148,\n",
              "  'percentage': 0.0335195530726257,\n",
              "  'start': 84006,\n",
              "  'subject': 219},\n",
              " {'end': 88194,\n",
              "  'num_seq': 2040,\n",
              "  'percentage': 0.04607843137254902,\n",
              "  'start': 86154,\n",
              "  'subject': 220},\n",
              " {'end': 90613,\n",
              "  'num_seq': 2419,\n",
              "  'percentage': 0.16329061595700703,\n",
              "  'start': 88194,\n",
              "  'subject': 221},\n",
              " {'end': 93087,\n",
              "  'num_seq': 2474,\n",
              "  'percentage': 0.17016976556184316,\n",
              "  'start': 90613,\n",
              "  'subject': 222},\n",
              " {'end': 95684,\n",
              "  'num_seq': 2597,\n",
              "  'percentage': 0.22179437812860994,\n",
              "  'start': 93087,\n",
              "  'subject': 223},\n",
              " {'end': 97730,\n",
              "  'num_seq': 2046,\n",
              "  'percentage': 0.17790811339198437,\n",
              "  'start': 95684,\n",
              "  'subject': 228},\n",
              " {'end': 99978,\n",
              "  'num_seq': 2248,\n",
              "  'percentage': 0.00044483985765124553,\n",
              "  'start': 97730,\n",
              "  'subject': 230},\n",
              " {'end': 101543,\n",
              "  'num_seq': 1565,\n",
              "  'percentage': 0.7993610223642172,\n",
              "  'start': 99978,\n",
              "  'subject': 231},\n",
              " {'end': 103318,\n",
              "  'num_seq': 1775,\n",
              "  'percentage': 1.0,\n",
              "  'start': 101543,\n",
              "  'subject': 232},\n",
              " {'end': 106387,\n",
              "  'num_seq': 3069,\n",
              "  'percentage': 0.2756598240469208,\n",
              "  'start': 103318,\n",
              "  'subject': 233},\n",
              " {'end': 109132,\n",
              "  'num_seq': 2745,\n",
              "  'percentage': 0.019307832422586522,\n",
              "  'start': 106387,\n",
              "  'subject': 234}]"
            ]
          },
          "metadata": {},
          "execution_count": 18
        }
      ],
      "source": [
        "subject_map"
      ]
    },
    {
      "cell_type": "markdown",
      "metadata": {
        "id": "_Kvf4A2Imj-8"
      },
      "source": [
        "Creating bins to be used to stratify the train and validation split. "
      ]
    },
    {
      "cell_type": "code",
      "execution_count": null,
      "metadata": {
        "id": "oQYM8hyPmj-9",
        "colab": {
          "base_uri": "https://localhost:8080/",
          "height": 1000
        },
        "outputId": "21feb5d2-6f8d-4ab2-d23d-dc588be44265"
      },
      "outputs": [
        {
          "output_type": "execute_result",
          "data": {
            "text/html": [
              "\n",
              "  <div id=\"df-82494812-795c-41cf-95d9-88392e5e17b0\">\n",
              "    <div class=\"colab-df-container\">\n",
              "      <div>\n",
              "<style scoped>\n",
              "    .dataframe tbody tr th:only-of-type {\n",
              "        vertical-align: middle;\n",
              "    }\n",
              "\n",
              "    .dataframe tbody tr th {\n",
              "        vertical-align: top;\n",
              "    }\n",
              "\n",
              "    .dataframe thead th {\n",
              "        text-align: right;\n",
              "    }\n",
              "</style>\n",
              "<table border=\"1\" class=\"dataframe\">\n",
              "  <thead>\n",
              "    <tr style=\"text-align: right;\">\n",
              "      <th></th>\n",
              "      <th>subject</th>\n",
              "      <th>percentage</th>\n",
              "      <th>num_seq</th>\n",
              "      <th>start</th>\n",
              "      <th>end</th>\n",
              "    </tr>\n",
              "  </thead>\n",
              "  <tbody>\n",
              "    <tr>\n",
              "      <th>0</th>\n",
              "      <td>100</td>\n",
              "      <td>0.015018</td>\n",
              "      <td>2264</td>\n",
              "      <td>0</td>\n",
              "      <td>2264</td>\n",
              "    </tr>\n",
              "    <tr>\n",
              "      <th>1</th>\n",
              "      <td>101</td>\n",
              "      <td>0.002691</td>\n",
              "      <td>1858</td>\n",
              "      <td>2264</td>\n",
              "      <td>4122</td>\n",
              "    </tr>\n",
              "    <tr>\n",
              "      <th>2</th>\n",
              "      <td>102</td>\n",
              "      <td>0.954566</td>\n",
              "      <td>2179</td>\n",
              "      <td>4122</td>\n",
              "      <td>6301</td>\n",
              "    </tr>\n",
              "    <tr>\n",
              "      <th>3</th>\n",
              "      <td>103</td>\n",
              "      <td>0.000962</td>\n",
              "      <td>2078</td>\n",
              "      <td>6301</td>\n",
              "      <td>8379</td>\n",
              "    </tr>\n",
              "    <tr>\n",
              "      <th>4</th>\n",
              "      <td>104</td>\n",
              "      <td>0.926610</td>\n",
              "      <td>2221</td>\n",
              "      <td>8379</td>\n",
              "      <td>10600</td>\n",
              "    </tr>\n",
              "    <tr>\n",
              "      <th>5</th>\n",
              "      <td>105</td>\n",
              "      <td>0.017941</td>\n",
              "      <td>2564</td>\n",
              "      <td>10600</td>\n",
              "      <td>13164</td>\n",
              "    </tr>\n",
              "    <tr>\n",
              "      <th>6</th>\n",
              "      <td>106</td>\n",
              "      <td>0.256309</td>\n",
              "      <td>2021</td>\n",
              "      <td>13164</td>\n",
              "      <td>15185</td>\n",
              "    </tr>\n",
              "    <tr>\n",
              "      <th>7</th>\n",
              "      <td>107</td>\n",
              "      <td>1.000000</td>\n",
              "      <td>2130</td>\n",
              "      <td>15185</td>\n",
              "      <td>17315</td>\n",
              "    </tr>\n",
              "    <tr>\n",
              "      <th>8</th>\n",
              "      <td>108</td>\n",
              "      <td>0.013660</td>\n",
              "      <td>1757</td>\n",
              "      <td>17315</td>\n",
              "      <td>19072</td>\n",
              "    </tr>\n",
              "    <tr>\n",
              "      <th>9</th>\n",
              "      <td>109</td>\n",
              "      <td>1.000000</td>\n",
              "      <td>2523</td>\n",
              "      <td>19072</td>\n",
              "      <td>21595</td>\n",
              "    </tr>\n",
              "    <tr>\n",
              "      <th>10</th>\n",
              "      <td>111</td>\n",
              "      <td>1.000000</td>\n",
              "      <td>2118</td>\n",
              "      <td>21595</td>\n",
              "      <td>23713</td>\n",
              "    </tr>\n",
              "    <tr>\n",
              "      <th>11</th>\n",
              "      <td>112</td>\n",
              "      <td>0.000790</td>\n",
              "      <td>2531</td>\n",
              "      <td>23713</td>\n",
              "      <td>26244</td>\n",
              "    </tr>\n",
              "    <tr>\n",
              "      <th>12</th>\n",
              "      <td>113</td>\n",
              "      <td>0.003356</td>\n",
              "      <td>1788</td>\n",
              "      <td>26244</td>\n",
              "      <td>28032</td>\n",
              "    </tr>\n",
              "    <tr>\n",
              "      <th>13</th>\n",
              "      <td>114</td>\n",
              "      <td>0.031500</td>\n",
              "      <td>1873</td>\n",
              "      <td>28032</td>\n",
              "      <td>29905</td>\n",
              "    </tr>\n",
              "    <tr>\n",
              "      <th>14</th>\n",
              "      <td>115</td>\n",
              "      <td>0.000000</td>\n",
              "      <td>1946</td>\n",
              "      <td>29905</td>\n",
              "      <td>31851</td>\n",
              "    </tr>\n",
              "    <tr>\n",
              "      <th>15</th>\n",
              "      <td>116</td>\n",
              "      <td>0.045757</td>\n",
              "      <td>2404</td>\n",
              "      <td>31851</td>\n",
              "      <td>34255</td>\n",
              "    </tr>\n",
              "    <tr>\n",
              "      <th>16</th>\n",
              "      <td>117</td>\n",
              "      <td>0.000654</td>\n",
              "      <td>1529</td>\n",
              "      <td>34255</td>\n",
              "      <td>35784</td>\n",
              "    </tr>\n",
              "    <tr>\n",
              "      <th>17</th>\n",
              "      <td>118</td>\n",
              "      <td>1.000000</td>\n",
              "      <td>2271</td>\n",
              "      <td>35784</td>\n",
              "      <td>38055</td>\n",
              "    </tr>\n",
              "    <tr>\n",
              "      <th>18</th>\n",
              "      <td>119</td>\n",
              "      <td>0.223624</td>\n",
              "      <td>1981</td>\n",
              "      <td>38055</td>\n",
              "      <td>40036</td>\n",
              "    </tr>\n",
              "    <tr>\n",
              "      <th>19</th>\n",
              "      <td>121</td>\n",
              "      <td>0.001078</td>\n",
              "      <td>1856</td>\n",
              "      <td>40036</td>\n",
              "      <td>41892</td>\n",
              "    </tr>\n",
              "    <tr>\n",
              "      <th>20</th>\n",
              "      <td>122</td>\n",
              "      <td>0.000000</td>\n",
              "      <td>2467</td>\n",
              "      <td>41892</td>\n",
              "      <td>44359</td>\n",
              "    </tr>\n",
              "    <tr>\n",
              "      <th>21</th>\n",
              "      <td>123</td>\n",
              "      <td>0.001984</td>\n",
              "      <td>1512</td>\n",
              "      <td>44359</td>\n",
              "      <td>45871</td>\n",
              "    </tr>\n",
              "    <tr>\n",
              "      <th>22</th>\n",
              "      <td>124</td>\n",
              "      <td>1.000000</td>\n",
              "      <td>1614</td>\n",
              "      <td>45871</td>\n",
              "      <td>47485</td>\n",
              "    </tr>\n",
              "    <tr>\n",
              "      <th>23</th>\n",
              "      <td>200</td>\n",
              "      <td>0.330120</td>\n",
              "      <td>2593</td>\n",
              "      <td>47485</td>\n",
              "      <td>50078</td>\n",
              "    </tr>\n",
              "    <tr>\n",
              "      <th>24</th>\n",
              "      <td>201</td>\n",
              "      <td>0.172713</td>\n",
              "      <td>1957</td>\n",
              "      <td>50078</td>\n",
              "      <td>52035</td>\n",
              "    </tr>\n",
              "    <tr>\n",
              "      <th>25</th>\n",
              "      <td>202</td>\n",
              "      <td>0.035211</td>\n",
              "      <td>2130</td>\n",
              "      <td>52035</td>\n",
              "      <td>54165</td>\n",
              "    </tr>\n",
              "    <tr>\n",
              "      <th>26</th>\n",
              "      <td>203</td>\n",
              "      <td>0.151801</td>\n",
              "      <td>2971</td>\n",
              "      <td>54165</td>\n",
              "      <td>57136</td>\n",
              "    </tr>\n",
              "    <tr>\n",
              "      <th>27</th>\n",
              "      <td>205</td>\n",
              "      <td>0.032100</td>\n",
              "      <td>2648</td>\n",
              "      <td>57136</td>\n",
              "      <td>59784</td>\n",
              "    </tr>\n",
              "    <tr>\n",
              "      <th>28</th>\n",
              "      <td>207</td>\n",
              "      <td>1.000000</td>\n",
              "      <td>1851</td>\n",
              "      <td>59784</td>\n",
              "      <td>61635</td>\n",
              "    </tr>\n",
              "    <tr>\n",
              "      <th>29</th>\n",
              "      <td>208</td>\n",
              "      <td>0.463001</td>\n",
              "      <td>2946</td>\n",
              "      <td>61635</td>\n",
              "      <td>64581</td>\n",
              "    </tr>\n",
              "    <tr>\n",
              "      <th>30</th>\n",
              "      <td>209</td>\n",
              "      <td>0.128128</td>\n",
              "      <td>2997</td>\n",
              "      <td>64581</td>\n",
              "      <td>67578</td>\n",
              "    </tr>\n",
              "    <tr>\n",
              "      <th>31</th>\n",
              "      <td>210</td>\n",
              "      <td>0.085227</td>\n",
              "      <td>2640</td>\n",
              "      <td>67578</td>\n",
              "      <td>70218</td>\n",
              "    </tr>\n",
              "    <tr>\n",
              "      <th>32</th>\n",
              "      <td>212</td>\n",
              "      <td>0.664599</td>\n",
              "      <td>2740</td>\n",
              "      <td>70218</td>\n",
              "      <td>72958</td>\n",
              "    </tr>\n",
              "    <tr>\n",
              "      <th>33</th>\n",
              "      <td>213</td>\n",
              "      <td>0.188330</td>\n",
              "      <td>3239</td>\n",
              "      <td>72958</td>\n",
              "      <td>76197</td>\n",
              "    </tr>\n",
              "    <tr>\n",
              "      <th>34</th>\n",
              "      <td>214</td>\n",
              "      <td>1.000000</td>\n",
              "      <td>2254</td>\n",
              "      <td>76197</td>\n",
              "      <td>78451</td>\n",
              "    </tr>\n",
              "    <tr>\n",
              "      <th>35</th>\n",
              "      <td>215</td>\n",
              "      <td>0.050104</td>\n",
              "      <td>3353</td>\n",
              "      <td>78451</td>\n",
              "      <td>81804</td>\n",
              "    </tr>\n",
              "    <tr>\n",
              "      <th>36</th>\n",
              "      <td>217</td>\n",
              "      <td>0.889192</td>\n",
              "      <td>2202</td>\n",
              "      <td>81804</td>\n",
              "      <td>84006</td>\n",
              "    </tr>\n",
              "    <tr>\n",
              "      <th>37</th>\n",
              "      <td>219</td>\n",
              "      <td>0.033520</td>\n",
              "      <td>2148</td>\n",
              "      <td>84006</td>\n",
              "      <td>86154</td>\n",
              "    </tr>\n",
              "    <tr>\n",
              "      <th>38</th>\n",
              "      <td>220</td>\n",
              "      <td>0.046078</td>\n",
              "      <td>2040</td>\n",
              "      <td>86154</td>\n",
              "      <td>88194</td>\n",
              "    </tr>\n",
              "    <tr>\n",
              "      <th>39</th>\n",
              "      <td>221</td>\n",
              "      <td>0.163291</td>\n",
              "      <td>2419</td>\n",
              "      <td>88194</td>\n",
              "      <td>90613</td>\n",
              "    </tr>\n",
              "    <tr>\n",
              "      <th>40</th>\n",
              "      <td>222</td>\n",
              "      <td>0.170170</td>\n",
              "      <td>2474</td>\n",
              "      <td>90613</td>\n",
              "      <td>93087</td>\n",
              "    </tr>\n",
              "    <tr>\n",
              "      <th>41</th>\n",
              "      <td>223</td>\n",
              "      <td>0.221794</td>\n",
              "      <td>2597</td>\n",
              "      <td>93087</td>\n",
              "      <td>95684</td>\n",
              "    </tr>\n",
              "    <tr>\n",
              "      <th>42</th>\n",
              "      <td>228</td>\n",
              "      <td>0.177908</td>\n",
              "      <td>2046</td>\n",
              "      <td>95684</td>\n",
              "      <td>97730</td>\n",
              "    </tr>\n",
              "    <tr>\n",
              "      <th>43</th>\n",
              "      <td>230</td>\n",
              "      <td>0.000445</td>\n",
              "      <td>2248</td>\n",
              "      <td>97730</td>\n",
              "      <td>99978</td>\n",
              "    </tr>\n",
              "    <tr>\n",
              "      <th>44</th>\n",
              "      <td>231</td>\n",
              "      <td>0.799361</td>\n",
              "      <td>1565</td>\n",
              "      <td>99978</td>\n",
              "      <td>101543</td>\n",
              "    </tr>\n",
              "    <tr>\n",
              "      <th>45</th>\n",
              "      <td>232</td>\n",
              "      <td>1.000000</td>\n",
              "      <td>1775</td>\n",
              "      <td>101543</td>\n",
              "      <td>103318</td>\n",
              "    </tr>\n",
              "    <tr>\n",
              "      <th>46</th>\n",
              "      <td>233</td>\n",
              "      <td>0.275660</td>\n",
              "      <td>3069</td>\n",
              "      <td>103318</td>\n",
              "      <td>106387</td>\n",
              "    </tr>\n",
              "    <tr>\n",
              "      <th>47</th>\n",
              "      <td>234</td>\n",
              "      <td>0.019308</td>\n",
              "      <td>2745</td>\n",
              "      <td>106387</td>\n",
              "      <td>109132</td>\n",
              "    </tr>\n",
              "  </tbody>\n",
              "</table>\n",
              "</div>\n",
              "      <button class=\"colab-df-convert\" onclick=\"convertToInteractive('df-82494812-795c-41cf-95d9-88392e5e17b0')\"\n",
              "              title=\"Convert this dataframe to an interactive table.\"\n",
              "              style=\"display:none;\">\n",
              "        \n",
              "  <svg xmlns=\"http://www.w3.org/2000/svg\" height=\"24px\"viewBox=\"0 0 24 24\"\n",
              "       width=\"24px\">\n",
              "    <path d=\"M0 0h24v24H0V0z\" fill=\"none\"/>\n",
              "    <path d=\"M18.56 5.44l.94 2.06.94-2.06 2.06-.94-2.06-.94-.94-2.06-.94 2.06-2.06.94zm-11 1L8.5 8.5l.94-2.06 2.06-.94-2.06-.94L8.5 2.5l-.94 2.06-2.06.94zm10 10l.94 2.06.94-2.06 2.06-.94-2.06-.94-.94-2.06-.94 2.06-2.06.94z\"/><path d=\"M17.41 7.96l-1.37-1.37c-.4-.4-.92-.59-1.43-.59-.52 0-1.04.2-1.43.59L10.3 9.45l-7.72 7.72c-.78.78-.78 2.05 0 2.83L4 21.41c.39.39.9.59 1.41.59.51 0 1.02-.2 1.41-.59l7.78-7.78 2.81-2.81c.8-.78.8-2.07 0-2.86zM5.41 20L4 18.59l7.72-7.72 1.47 1.35L5.41 20z\"/>\n",
              "  </svg>\n",
              "      </button>\n",
              "      \n",
              "  <style>\n",
              "    .colab-df-container {\n",
              "      display:flex;\n",
              "      flex-wrap:wrap;\n",
              "      gap: 12px;\n",
              "    }\n",
              "\n",
              "    .colab-df-convert {\n",
              "      background-color: #E8F0FE;\n",
              "      border: none;\n",
              "      border-radius: 50%;\n",
              "      cursor: pointer;\n",
              "      display: none;\n",
              "      fill: #1967D2;\n",
              "      height: 32px;\n",
              "      padding: 0 0 0 0;\n",
              "      width: 32px;\n",
              "    }\n",
              "\n",
              "    .colab-df-convert:hover {\n",
              "      background-color: #E2EBFA;\n",
              "      box-shadow: 0px 1px 2px rgba(60, 64, 67, 0.3), 0px 1px 3px 1px rgba(60, 64, 67, 0.15);\n",
              "      fill: #174EA6;\n",
              "    }\n",
              "\n",
              "    [theme=dark] .colab-df-convert {\n",
              "      background-color: #3B4455;\n",
              "      fill: #D2E3FC;\n",
              "    }\n",
              "\n",
              "    [theme=dark] .colab-df-convert:hover {\n",
              "      background-color: #434B5C;\n",
              "      box-shadow: 0px 1px 3px 1px rgba(0, 0, 0, 0.15);\n",
              "      filter: drop-shadow(0px 1px 2px rgba(0, 0, 0, 0.3));\n",
              "      fill: #FFFFFF;\n",
              "    }\n",
              "  </style>\n",
              "\n",
              "      <script>\n",
              "        const buttonEl =\n",
              "          document.querySelector('#df-82494812-795c-41cf-95d9-88392e5e17b0 button.colab-df-convert');\n",
              "        buttonEl.style.display =\n",
              "          google.colab.kernel.accessAllowed ? 'block' : 'none';\n",
              "\n",
              "        async function convertToInteractive(key) {\n",
              "          const element = document.querySelector('#df-82494812-795c-41cf-95d9-88392e5e17b0');\n",
              "          const dataTable =\n",
              "            await google.colab.kernel.invokeFunction('convertToInteractive',\n",
              "                                                     [key], {});\n",
              "          if (!dataTable) return;\n",
              "\n",
              "          const docLinkHtml = 'Like what you see? Visit the ' +\n",
              "            '<a target=\"_blank\" href=https://colab.research.google.com/notebooks/data_table.ipynb>data table notebook</a>'\n",
              "            + ' to learn more about interactive tables.';\n",
              "          element.innerHTML = '';\n",
              "          dataTable['output_type'] = 'display_data';\n",
              "          await google.colab.output.renderOutput(dataTable, element);\n",
              "          const docLink = document.createElement('div');\n",
              "          docLink.innerHTML = docLinkHtml;\n",
              "          element.appendChild(docLink);\n",
              "        }\n",
              "      </script>\n",
              "    </div>\n",
              "  </div>\n",
              "  "
            ],
            "text/plain": [
              "    subject  percentage  num_seq   start     end\n",
              "0       100    0.015018     2264       0    2264\n",
              "1       101    0.002691     1858    2264    4122\n",
              "2       102    0.954566     2179    4122    6301\n",
              "3       103    0.000962     2078    6301    8379\n",
              "4       104    0.926610     2221    8379   10600\n",
              "5       105    0.017941     2564   10600   13164\n",
              "6       106    0.256309     2021   13164   15185\n",
              "7       107    1.000000     2130   15185   17315\n",
              "8       108    0.013660     1757   17315   19072\n",
              "9       109    1.000000     2523   19072   21595\n",
              "10      111    1.000000     2118   21595   23713\n",
              "11      112    0.000790     2531   23713   26244\n",
              "12      113    0.003356     1788   26244   28032\n",
              "13      114    0.031500     1873   28032   29905\n",
              "14      115    0.000000     1946   29905   31851\n",
              "15      116    0.045757     2404   31851   34255\n",
              "16      117    0.000654     1529   34255   35784\n",
              "17      118    1.000000     2271   35784   38055\n",
              "18      119    0.223624     1981   38055   40036\n",
              "19      121    0.001078     1856   40036   41892\n",
              "20      122    0.000000     2467   41892   44359\n",
              "21      123    0.001984     1512   44359   45871\n",
              "22      124    1.000000     1614   45871   47485\n",
              "23      200    0.330120     2593   47485   50078\n",
              "24      201    0.172713     1957   50078   52035\n",
              "25      202    0.035211     2130   52035   54165\n",
              "26      203    0.151801     2971   54165   57136\n",
              "27      205    0.032100     2648   57136   59784\n",
              "28      207    1.000000     1851   59784   61635\n",
              "29      208    0.463001     2946   61635   64581\n",
              "30      209    0.128128     2997   64581   67578\n",
              "31      210    0.085227     2640   67578   70218\n",
              "32      212    0.664599     2740   70218   72958\n",
              "33      213    0.188330     3239   72958   76197\n",
              "34      214    1.000000     2254   76197   78451\n",
              "35      215    0.050104     3353   78451   81804\n",
              "36      217    0.889192     2202   81804   84006\n",
              "37      219    0.033520     2148   84006   86154\n",
              "38      220    0.046078     2040   86154   88194\n",
              "39      221    0.163291     2419   88194   90613\n",
              "40      222    0.170170     2474   90613   93087\n",
              "41      223    0.221794     2597   93087   95684\n",
              "42      228    0.177908     2046   95684   97730\n",
              "43      230    0.000445     2248   97730   99978\n",
              "44      231    0.799361     1565   99978  101543\n",
              "45      232    1.000000     1775  101543  103318\n",
              "46      233    0.275660     3069  103318  106387\n",
              "47      234    0.019308     2745  106387  109132"
            ]
          },
          "metadata": {},
          "execution_count": 19
        }
      ],
      "source": [
        "subject_map = pd.DataFrame(subject_map)\n",
        "subject_map"
      ]
    },
    {
      "cell_type": "markdown",
      "metadata": {
        "id": "T8YqCCJumj-_"
      },
      "source": [
        "The code presented will create class in each patient is segmented."
      ]
    },
    {
      "cell_type": "code",
      "execution_count": null,
      "metadata": {
        "id": "Q1XnZH2gmj_D"
      },
      "outputs": [],
      "source": [
        "#segment data according to the percentage of abnormalities, intervals are shown in bins [0,0.2], [0.2,0.6],[0.6,1]\n",
        "\n",
        "bins = [0, 0.2, 0.6, 1.0]\n",
        "subject_map[\"bin\"] = pd.cut(subject_map['percentage'], bins=bins, labels=False, include_lowest=True)"
      ]
    },
    {
      "cell_type": "markdown",
      "metadata": {
        "id": "QoFx6Xtqmj_F"
      },
      "source": [
        "Now, the dataset is split into train and validation, stratifying by the bin defined above."
      ]
    },
    {
      "cell_type": "code",
      "execution_count": null,
      "metadata": {
        "id": "sXOBdFLrmj_G"
      },
      "outputs": [],
      "source": [
        "#This stratify parameter makes a split so that the proportion of values in the sample produced\n",
        "#will be the same as the proportion of values provided to parameter stratify\n",
        "train, validation = train_test_split(subject_map, test_size=0.25, stratify=subject_map[\"bin\"], random_state=42)\n",
        "#if record comtains a percentage between 0 and 0.2 it's bin value is 0, if it's between 0.2 and 0.6 it's bin value is 1, if between 0.6 and 1\n",
        "#the bin value will be 2\n",
        "#The stratified split will impose the existence of the same proportion of bins between both sets which means same proprtion of normality and abnormality"
      ]
    },
    {
      "cell_type": "code",
      "execution_count": null,
      "metadata": {
        "id": "NPuv_jgdqfgI",
        "colab": {
          "base_uri": "https://localhost:8080/",
          "height": 426
        },
        "outputId": "e857c204-044c-4b91-ff58-8106fc370406"
      },
      "outputs": [
        {
          "output_type": "execute_result",
          "data": {
            "text/html": [
              "\n",
              "  <div id=\"df-4fbcec0e-bcdb-428a-935e-21568ac7e5e2\">\n",
              "    <div class=\"colab-df-container\">\n",
              "      <div>\n",
              "<style scoped>\n",
              "    .dataframe tbody tr th:only-of-type {\n",
              "        vertical-align: middle;\n",
              "    }\n",
              "\n",
              "    .dataframe tbody tr th {\n",
              "        vertical-align: top;\n",
              "    }\n",
              "\n",
              "    .dataframe thead th {\n",
              "        text-align: right;\n",
              "    }\n",
              "</style>\n",
              "<table border=\"1\" class=\"dataframe\">\n",
              "  <thead>\n",
              "    <tr style=\"text-align: right;\">\n",
              "      <th></th>\n",
              "      <th>subject</th>\n",
              "      <th>percentage</th>\n",
              "      <th>num_seq</th>\n",
              "      <th>start</th>\n",
              "      <th>end</th>\n",
              "      <th>bin</th>\n",
              "    </tr>\n",
              "  </thead>\n",
              "  <tbody>\n",
              "    <tr>\n",
              "      <th>7</th>\n",
              "      <td>107</td>\n",
              "      <td>1.000000</td>\n",
              "      <td>2130</td>\n",
              "      <td>15185</td>\n",
              "      <td>17315</td>\n",
              "      <td>2</td>\n",
              "    </tr>\n",
              "    <tr>\n",
              "      <th>44</th>\n",
              "      <td>231</td>\n",
              "      <td>0.799361</td>\n",
              "      <td>1565</td>\n",
              "      <td>99978</td>\n",
              "      <td>101543</td>\n",
              "      <td>2</td>\n",
              "    </tr>\n",
              "    <tr>\n",
              "      <th>30</th>\n",
              "      <td>209</td>\n",
              "      <td>0.128128</td>\n",
              "      <td>2997</td>\n",
              "      <td>64581</td>\n",
              "      <td>67578</td>\n",
              "      <td>0</td>\n",
              "    </tr>\n",
              "    <tr>\n",
              "      <th>33</th>\n",
              "      <td>213</td>\n",
              "      <td>0.188330</td>\n",
              "      <td>3239</td>\n",
              "      <td>72958</td>\n",
              "      <td>76197</td>\n",
              "      <td>0</td>\n",
              "    </tr>\n",
              "    <tr>\n",
              "      <th>12</th>\n",
              "      <td>113</td>\n",
              "      <td>0.003356</td>\n",
              "      <td>1788</td>\n",
              "      <td>26244</td>\n",
              "      <td>28032</td>\n",
              "      <td>0</td>\n",
              "    </tr>\n",
              "    <tr>\n",
              "      <th>22</th>\n",
              "      <td>124</td>\n",
              "      <td>1.000000</td>\n",
              "      <td>1614</td>\n",
              "      <td>45871</td>\n",
              "      <td>47485</td>\n",
              "      <td>2</td>\n",
              "    </tr>\n",
              "    <tr>\n",
              "      <th>16</th>\n",
              "      <td>117</td>\n",
              "      <td>0.000654</td>\n",
              "      <td>1529</td>\n",
              "      <td>34255</td>\n",
              "      <td>35784</td>\n",
              "      <td>0</td>\n",
              "    </tr>\n",
              "    <tr>\n",
              "      <th>24</th>\n",
              "      <td>201</td>\n",
              "      <td>0.172713</td>\n",
              "      <td>1957</td>\n",
              "      <td>50078</td>\n",
              "      <td>52035</td>\n",
              "      <td>0</td>\n",
              "    </tr>\n",
              "    <tr>\n",
              "      <th>18</th>\n",
              "      <td>119</td>\n",
              "      <td>0.223624</td>\n",
              "      <td>1981</td>\n",
              "      <td>38055</td>\n",
              "      <td>40036</td>\n",
              "      <td>1</td>\n",
              "    </tr>\n",
              "    <tr>\n",
              "      <th>31</th>\n",
              "      <td>210</td>\n",
              "      <td>0.085227</td>\n",
              "      <td>2640</td>\n",
              "      <td>67578</td>\n",
              "      <td>70218</td>\n",
              "      <td>0</td>\n",
              "    </tr>\n",
              "    <tr>\n",
              "      <th>29</th>\n",
              "      <td>208</td>\n",
              "      <td>0.463001</td>\n",
              "      <td>2946</td>\n",
              "      <td>61635</td>\n",
              "      <td>64581</td>\n",
              "      <td>1</td>\n",
              "    </tr>\n",
              "    <tr>\n",
              "      <th>13</th>\n",
              "      <td>114</td>\n",
              "      <td>0.031500</td>\n",
              "      <td>1873</td>\n",
              "      <td>28032</td>\n",
              "      <td>29905</td>\n",
              "      <td>0</td>\n",
              "    </tr>\n",
              "  </tbody>\n",
              "</table>\n",
              "</div>\n",
              "      <button class=\"colab-df-convert\" onclick=\"convertToInteractive('df-4fbcec0e-bcdb-428a-935e-21568ac7e5e2')\"\n",
              "              title=\"Convert this dataframe to an interactive table.\"\n",
              "              style=\"display:none;\">\n",
              "        \n",
              "  <svg xmlns=\"http://www.w3.org/2000/svg\" height=\"24px\"viewBox=\"0 0 24 24\"\n",
              "       width=\"24px\">\n",
              "    <path d=\"M0 0h24v24H0V0z\" fill=\"none\"/>\n",
              "    <path d=\"M18.56 5.44l.94 2.06.94-2.06 2.06-.94-2.06-.94-.94-2.06-.94 2.06-2.06.94zm-11 1L8.5 8.5l.94-2.06 2.06-.94-2.06-.94L8.5 2.5l-.94 2.06-2.06.94zm10 10l.94 2.06.94-2.06 2.06-.94-2.06-.94-.94-2.06-.94 2.06-2.06.94z\"/><path d=\"M17.41 7.96l-1.37-1.37c-.4-.4-.92-.59-1.43-.59-.52 0-1.04.2-1.43.59L10.3 9.45l-7.72 7.72c-.78.78-.78 2.05 0 2.83L4 21.41c.39.39.9.59 1.41.59.51 0 1.02-.2 1.41-.59l7.78-7.78 2.81-2.81c.8-.78.8-2.07 0-2.86zM5.41 20L4 18.59l7.72-7.72 1.47 1.35L5.41 20z\"/>\n",
              "  </svg>\n",
              "      </button>\n",
              "      \n",
              "  <style>\n",
              "    .colab-df-container {\n",
              "      display:flex;\n",
              "      flex-wrap:wrap;\n",
              "      gap: 12px;\n",
              "    }\n",
              "\n",
              "    .colab-df-convert {\n",
              "      background-color: #E8F0FE;\n",
              "      border: none;\n",
              "      border-radius: 50%;\n",
              "      cursor: pointer;\n",
              "      display: none;\n",
              "      fill: #1967D2;\n",
              "      height: 32px;\n",
              "      padding: 0 0 0 0;\n",
              "      width: 32px;\n",
              "    }\n",
              "\n",
              "    .colab-df-convert:hover {\n",
              "      background-color: #E2EBFA;\n",
              "      box-shadow: 0px 1px 2px rgba(60, 64, 67, 0.3), 0px 1px 3px 1px rgba(60, 64, 67, 0.15);\n",
              "      fill: #174EA6;\n",
              "    }\n",
              "\n",
              "    [theme=dark] .colab-df-convert {\n",
              "      background-color: #3B4455;\n",
              "      fill: #D2E3FC;\n",
              "    }\n",
              "\n",
              "    [theme=dark] .colab-df-convert:hover {\n",
              "      background-color: #434B5C;\n",
              "      box-shadow: 0px 1px 3px 1px rgba(0, 0, 0, 0.15);\n",
              "      filter: drop-shadow(0px 1px 2px rgba(0, 0, 0, 0.3));\n",
              "      fill: #FFFFFF;\n",
              "    }\n",
              "  </style>\n",
              "\n",
              "      <script>\n",
              "        const buttonEl =\n",
              "          document.querySelector('#df-4fbcec0e-bcdb-428a-935e-21568ac7e5e2 button.colab-df-convert');\n",
              "        buttonEl.style.display =\n",
              "          google.colab.kernel.accessAllowed ? 'block' : 'none';\n",
              "\n",
              "        async function convertToInteractive(key) {\n",
              "          const element = document.querySelector('#df-4fbcec0e-bcdb-428a-935e-21568ac7e5e2');\n",
              "          const dataTable =\n",
              "            await google.colab.kernel.invokeFunction('convertToInteractive',\n",
              "                                                     [key], {});\n",
              "          if (!dataTable) return;\n",
              "\n",
              "          const docLinkHtml = 'Like what you see? Visit the ' +\n",
              "            '<a target=\"_blank\" href=https://colab.research.google.com/notebooks/data_table.ipynb>data table notebook</a>'\n",
              "            + ' to learn more about interactive tables.';\n",
              "          element.innerHTML = '';\n",
              "          dataTable['output_type'] = 'display_data';\n",
              "          await google.colab.output.renderOutput(dataTable, element);\n",
              "          const docLink = document.createElement('div');\n",
              "          docLink.innerHTML = docLinkHtml;\n",
              "          element.appendChild(docLink);\n",
              "        }\n",
              "      </script>\n",
              "    </div>\n",
              "  </div>\n",
              "  "
            ],
            "text/plain": [
              "    subject  percentage  num_seq  start     end  bin\n",
              "7       107    1.000000     2130  15185   17315    2\n",
              "44      231    0.799361     1565  99978  101543    2\n",
              "30      209    0.128128     2997  64581   67578    0\n",
              "33      213    0.188330     3239  72958   76197    0\n",
              "12      113    0.003356     1788  26244   28032    0\n",
              "22      124    1.000000     1614  45871   47485    2\n",
              "16      117    0.000654     1529  34255   35784    0\n",
              "24      201    0.172713     1957  50078   52035    0\n",
              "18      119    0.223624     1981  38055   40036    1\n",
              "31      210    0.085227     2640  67578   70218    0\n",
              "29      208    0.463001     2946  61635   64581    1\n",
              "13      114    0.031500     1873  28032   29905    0"
            ]
          },
          "metadata": {},
          "execution_count": 22
        }
      ],
      "source": [
        "validation"
      ]
    },
    {
      "cell_type": "markdown",
      "metadata": {
        "id": "kVhsgHWvmj_H"
      },
      "source": [
        "This function build a dataset based on the map for each split."
      ]
    },
    {
      "cell_type": "code",
      "execution_count": null,
      "metadata": {
        "id": "qfbJVvi0mj_L"
      },
      "outputs": [],
      "source": [
        "def build_dataset(df, all_sequences, all_labels):\n",
        "    sequences = []\n",
        "    labels = []\n",
        "    for i, row in df.iterrows():\n",
        "        begin = int(row[\"start\"])\n",
        "        end = int(row[\"end\"])\n",
        "        sequences.extend(all_sequences[begin:end])\n",
        "        labels.extend(all_labels[begin:end])\n",
        "        \n",
        "    return np.vstack(sequences), np.vstack(labels)"
      ]
    },
    {
      "cell_type": "code",
      "execution_count": null,
      "metadata": {
        "id": "_5F368Eemj_L"
      },
      "outputs": [],
      "source": [
        "X_train, y_train = build_dataset(train, all_sequences, all_labels)\n",
        "X_val, y_val = build_dataset(validation, all_sequences, all_labels)"
      ]
    },
    {
      "cell_type": "code",
      "execution_count": null,
      "metadata": {
        "id": "pmAa6bvomj_N",
        "colab": {
          "base_uri": "https://localhost:8080/"
        },
        "outputId": "ab91052a-3069-45a3-a1de-6b0f4b08d3e1"
      },
      "outputs": [
        {
          "output_type": "execute_result",
          "data": {
            "text/plain": [
              "((82873, 2160, 1), (82873, 1))"
            ]
          },
          "metadata": {},
          "execution_count": 25
        }
      ],
      "source": [
        "X_train.shape, y_train.shape"
      ]
    },
    {
      "cell_type": "code",
      "execution_count": null,
      "metadata": {
        "id": "lEXtBe2RqlZ_",
        "colab": {
          "base_uri": "https://localhost:8080/"
        },
        "outputId": "8f1539e4-d502-47a8-c394-445b3f0f6fd8"
      },
      "outputs": [
        {
          "output_type": "execute_result",
          "data": {
            "text/plain": [
              "((26259, 2160, 1), (26259, 1))"
            ]
          },
          "metadata": {},
          "execution_count": 26
        }
      ],
      "source": [
        "X_val.shape, y_val.shape"
      ]
    },
    {
      "cell_type": "markdown",
      "metadata": {
        "id": "g8bmcobNmj_Q"
      },
      "source": [
        "## Training the model"
      ]
    },
    {
      "cell_type": "markdown",
      "metadata": {
        "id": "1gyt-oKsmj_R"
      },
      "source": [
        "### CNN model"
      ]
    },
    {
      "cell_type": "code",
      "execution_count": null,
      "metadata": {
        "colab": {
          "base_uri": "https://localhost:8080/"
        },
        "id": "Q_JSaawgmj_U",
        "outputId": "eb97f2d9-4c87-4ee8-ef17-77d2b0b5800a"
      },
      "outputs": [
        {
          "output_type": "stream",
          "name": "stdout",
          "text": [
            "Model: \"sequential\"\n",
            "_________________________________________________________________\n",
            " Layer (type)                Output Shape              Param #   \n",
            "=================================================================\n",
            " conv1d (Conv1D)             (None, 2160, 16)          80        \n",
            "                                                                 \n",
            " batch_normalization (BatchN  (None, 2160, 16)         64        \n",
            " ormalization)                                                   \n",
            "                                                                 \n",
            " dropout (Dropout)           (None, 2160, 16)          0         \n",
            "                                                                 \n",
            " conv1d_1 (Conv1D)           (None, 2160, 8)           520       \n",
            "                                                                 \n",
            " batch_normalization_1 (Batc  (None, 2160, 8)          32        \n",
            " hNormalization)                                                 \n",
            "                                                                 \n",
            " dropout_1 (Dropout)         (None, 2160, 8)           0         \n",
            "                                                                 \n",
            " flatten (Flatten)           (None, 17280)             0         \n",
            "                                                                 \n",
            " dense (Dense)               (None, 32)                552992    \n",
            "                                                                 \n",
            " dropout_2 (Dropout)         (None, 32)                0         \n",
            "                                                                 \n",
            " output (Dense)              (None, 1)                 33        \n",
            "                                                                 \n",
            "=================================================================\n",
            "Total params: 553,721\n",
            "Trainable params: 553,673\n",
            "Non-trainable params: 48\n",
            "_________________________________________________________________\n"
          ]
        },
        {
          "output_type": "stream",
          "name": "stderr",
          "text": [
            "/usr/local/lib/python3.7/dist-packages/keras/optimizer_v2/adam.py:105: UserWarning: The `lr` argument is deprecated, use `learning_rate` instead.\n",
            "  super(Adam, self).__init__(name, **kwargs)\n"
          ]
        }
      ],
      "source": [
        "######### zedt batchnorm, dropout, early stopping w save best model\n",
        "from keras.models import Sequential\n",
        "from keras.layers import Conv1D, BatchNormalization, Flatten, Dense, Dropout,MaxPool1D\n",
        "from tensorflow.keras.optimizers import Adam\n",
        "\n",
        "sequence_size = X_train.shape[1]\n",
        "n_features = 1\n",
        "\n",
        "cnn_model = Sequential([\n",
        "    Conv1D(filters=16,kernel_size=4,strides=1,input_shape=(sequence_size, n_features),padding=\"same\",activation=\"relu\"),\n",
        "    BatchNormalization(),\n",
        "    Dropout(0.4),\n",
        "    Conv1D(filters=8,kernel_size=4,strides=1,padding=\"same\",activation=\"relu\"),\n",
        "    BatchNormalization(),\n",
        "    Dropout(0.4),\n",
        "    Flatten(),\n",
        "    Dense(32,activation=\"sigmoid\"),\n",
        "    Dropout(0.3),\n",
        "    Dense(1,activation=\"sigmoid\",name=\"output\")\n",
        "])\n",
        "\n",
        "optimizer = Adam(lr=0.001)\n",
        "# Compiling the model\n",
        "cnn_model.compile(\n",
        "    optimizer=optimizer,\n",
        "    loss=\"binary_crossentropy\",\n",
        "    metrics=[\"accuracy\"]\n",
        ")\n",
        "cnn_model.summary()"
      ]
    },
    {
      "cell_type": "code",
      "execution_count": null,
      "metadata": {
        "colab": {
          "base_uri": "https://localhost:8080/"
        },
        "id": "vS31kKGUmj_a",
        "outputId": "ce5a15a8-4303-46b8-b8e4-46fbec0a1285"
      },
      "outputs": [
        {
          "output_type": "stream",
          "name": "stdout",
          "text": [
            "Epoch 1/20\n",
            "1295/1295 [==============================] - 242s 184ms/step - loss: 0.1679 - accuracy: 0.9383 - val_loss: 0.5965 - val_accuracy: 0.8139\n",
            "Epoch 2/20\n",
            "1295/1295 [==============================] - 243s 187ms/step - loss: 0.1120 - accuracy: 0.9620 - val_loss: 0.5726 - val_accuracy: 0.8490\n",
            "Epoch 3/20\n",
            "1295/1295 [==============================] - 244s 188ms/step - loss: 0.0956 - accuracy: 0.9677 - val_loss: 0.5769 - val_accuracy: 0.8453\n",
            "Epoch 4/20\n",
            "1295/1295 [==============================] - 240s 185ms/step - loss: 0.0889 - accuracy: 0.9690 - val_loss: 0.5156 - val_accuracy: 0.8594\n",
            "Epoch 5/20\n",
            "1295/1295 [==============================] - 239s 185ms/step - loss: 0.0832 - accuracy: 0.9712 - val_loss: 0.5593 - val_accuracy: 0.8549\n",
            "Epoch 6/20\n",
            "1295/1295 [==============================] - 239s 184ms/step - loss: 0.0794 - accuracy: 0.9724 - val_loss: 0.5715 - val_accuracy: 0.8491\n",
            "Epoch 7/20\n",
            "1295/1295 [==============================] - 238s 183ms/step - loss: 0.0746 - accuracy: 0.9738 - val_loss: 0.5699 - val_accuracy: 0.8472\n",
            "Epoch 8/20\n",
            "1295/1295 [==============================] - 238s 184ms/step - loss: 0.0717 - accuracy: 0.9749 - val_loss: 0.5684 - val_accuracy: 0.8556\n"
          ]
        }
      ],
      "source": [
        "######### fazet\n",
        "import tensorflow as tf \n",
        "from keras.callbacks import EarlyStopping, ModelCheckpoint\n",
        "\n",
        "callbacks = [EarlyStopping(monitor='val_loss', patience=4),\n",
        "             ModelCheckpoint(filepath='best_CNN_model.h5', monitor='val_loss', save_best_only=True)]\n",
        "\n",
        "hist_cnn = cnn_model.fit(\n",
        "    X_train, \n",
        "    y_train, \n",
        "    batch_size=64,\n",
        "    callbacks=callbacks,\n",
        "    epochs=20,\n",
        "    validation_data=(X_val, y_val)\n",
        ") "
      ]
    },
    {
      "cell_type": "code",
      "execution_count": null,
      "metadata": {
        "colab": {
          "base_uri": "https://localhost:8080/"
        },
        "id": "CJJX6t6rmj_e",
        "outputId": "178dacb7-6a5f-4c0b-a7ef-23e320042a2f"
      },
      "outputs": [
        {
          "output_type": "stream",
          "name": "stdout",
          "text": [
            "821/821 [==============================] - 17s 21ms/step - loss: 0.5156 - accuracy: 0.8594\n"
          ]
        },
        {
          "output_type": "execute_result",
          "data": {
            "text/plain": [
              "[0.5155589580535889, 0.8594005703926086]"
            ]
          },
          "metadata": {},
          "execution_count": 29
        }
      ],
      "source": [
        "model = tf.keras.models.load_model('/content/best_CNN_model.h5')\n",
        "model.evaluate(X_val, y_val)"
      ]
    },
    {
      "cell_type": "code",
      "execution_count": null,
      "metadata": {
        "colab": {
          "base_uri": "https://localhost:8080/"
        },
        "id": "ffBEWAF4mj_i",
        "outputId": "0b87e354-c8d0-49b9-b90f-cf8a8c596447"
      },
      "outputs": [
        {
          "output_type": "display_data",
          "data": {
            "image/png": "[encoded data removed]",
            "text/plain": [
              "<Figure size 432x288 with 1 Axes>"
            ]
          },
          "metadata": {
            "needs_background": "light"
          }
        }
      ],
      "source": [
        "# summarize history for accuracy\n",
        "plt.plot(hist_cnn.history['accuracy'])\n",
        "plt.plot(hist_cnn.history['val_accuracy'])\n",
        "plt.title('CNN model accuracy')\n",
        "plt.ylabel('accuracy')\n",
        "plt.xlabel('epoch')\n",
        "plt.legend(['train', 'test'], loc='upper left')\n",
        "plt.show()"
      ]
    },
    {
      "cell_type": "code",
      "execution_count": null,
      "metadata": {
        "colab": {
          "base_uri": "https://localhost:8080/"
        },
        "id": "GKNXrPg6mj_k",
        "outputId": "835f635e-fb95-4f35-bdf4-2607721031cd"
      },
      "outputs": [
        {
          "output_type": "display_data",
          "data": {
            "image/png": "[encoded data removed]",
            "text/plain": [
              "<Figure size 432x288 with 1 Axes>"
            ]
          },
          "metadata": {
            "needs_background": "light"
          }
        }
      ],
      "source": [
        "# summarize history for loss\n",
        "plt.plot(hist_cnn.history['loss'])\n",
        "plt.plot(hist_cnn.history['val_loss'])\n",
        "plt.title('CNN model loss')\n",
        "plt.ylabel('loss')\n",
        "plt.xlabel('epoch')\n",
        "plt.legend(['train', 'test'], loc='upper left')\n",
        "plt.show()"
      ]
    },
    {
      "cell_type": "markdown",
      "metadata": {
        "id": "hD8BoDxPmj_n"
      },
      "source": [
        "### CNN with LSTM model"
      ]
    },
    {
      "cell_type": "code",
      "execution_count": null,
      "metadata": {
        "id": "YyCThKAP0h0A"
      },
      "outputs": [],
      "source": [
        "sequence_size = X_train.shape[1]\n",
        "n_features = 1 \n",
        "n_subsequences = 4\n",
        "subsequence_size = int(sequence_size / n_subsequences)\n",
        "\n",
        "# Reshaping to be (samples, subsequences, sequence, feature)\n",
        "X_train = X_train.reshape(-1, n_subsequences, subsequence_size, n_features)\n",
        "X_val = X_val.reshape(-1, n_subsequences, subsequence_size, n_features)"
      ]
    },
    {
      "cell_type": "code",
      "execution_count": null,
      "metadata": {
        "id": "g2ybaAj00h0C"
      },
      "outputs": [],
      "source": [
        "############### tbadel li mel loutaaa omour model ka mouhawla oula"
      ]
    },
    {
      "cell_type": "code",
      "execution_count": null,
      "metadata": {
        "colab": {
          "base_uri": "https://localhost:8080/"
        },
        "id": "NDD6-PJl0h0C",
        "outputId": "488d45fc-f174-4ba2-da66-62e925634a79"
      },
      "outputs": [
        {
          "output_type": "stream",
          "name": "stderr",
          "text": [
            "/usr/local/lib/python3.7/dist-packages/ipykernel_launcher.py:48: DeprecationWarning: KerasClassifier is deprecated, use Sci-Keras (https://github.com/adriangb/scikeras) instead.\n",
            "/usr/local/lib/python3.7/dist-packages/joblib/externals/loky/process_executor.py:705: UserWarning: A worker stopped while some jobs were given to the executor. This can be caused by a too short worker timeout or by a memory leak.\n",
            "  \"timeout or by a memory leak.\", UserWarning\n",
            "/usr/local/lib/python3.7/dist-packages/keras/optimizer_v2/adam.py:105: UserWarning: The `lr` argument is deprecated, use `learning_rate` instead.\n",
            "  super(Adam, self).__init__(name, **kwargs)\n"
          ]
        },
        {
          "output_type": "stream",
          "name": "stdout",
          "text": [
            "Best: 0.830524 using {'batch_size': 64, 'learn_rate': 0.001}\n"
          ]
        }
      ],
      "source": [
        "from keras.layers import Conv1D,BatchNormalization, Flatten, Dense, Dropout,MaxPool1D\n",
        "from keras.callbacks import EarlyStopping, ModelCheckpoint\n",
        "from sklearn.model_selection import GridSearchCV\n",
        "from keras.wrappers.scikit_learn import KerasClassifier\n",
        "\n",
        "def create_model(learn_rate):\n",
        "  cnn_lstm_model = Sequential([\n",
        "    TimeDistributed(\n",
        "        Conv1D(\n",
        "            filters=16,\n",
        "            kernel_size=4,\n",
        "            strides=1,\n",
        "            padding=\"same\",\n",
        "            activation=\"relu\"\n",
        "        ), \n",
        "        input_shape=(n_subsequences, subsequence_size, n_features)\n",
        "    ),\n",
        "    BatchNormalization(),\n",
        "    Dropout(0.3),\n",
        "    TimeDistributed(Conv1D(filters=8,kernel_size=4,strides=1,padding=\"same\",activation=\"relu\")),\n",
        "    BatchNormalization(),\n",
        "    Dropout(0.3),\n",
        "    TimeDistributed(Flatten()),\n",
        "    LSTM(units=8,activation=\"tanh\"),\n",
        "    Dropout(0.3),\n",
        "\n",
        "    Dense(\n",
        "        1,\n",
        "        activation=\"sigmoid\",\n",
        "        name=\"output\",\n",
        "    )\n",
        "    ])\n",
        "  callbacks = [EarlyStopping(monitor='val_loss', patience=8),\n",
        "  ModelCheckpoint(filepath='best_model.h5', monitor='val_loss', save_best_only=True)]\n",
        "\n",
        "  optimizer = Adam(lr=learn_rate)\n",
        "  # Compiling the model\n",
        "  cnn_lstm_model.compile(\n",
        "    optimizer=optimizer,\n",
        "    loss=\"binary_crossentropy\",\n",
        "    metrics=[\"accuracy\"]\n",
        "   )\n",
        "  return cnn_lstm_model\n",
        "  \n",
        "\n",
        "learn_rate = [0.001, 0.01]\n",
        "batch_size = [32,64]\n",
        "param_grid = dict(learn_rate=learn_rate, batch_size=batch_size)\n",
        "model = KerasClassifier(build_fn=create_model, epochs=5, verbose=0)\n",
        "\n",
        "grid = GridSearchCV(estimator=model, scoring=\"accuracy\",param_grid=param_grid, n_jobs=-1, cv=3)\n",
        "grid_result = grid.fit(X_train, y_train)\n",
        "# summarize results\n",
        "print(\"Best: %f using %s\" % (grid_result.best_score_, grid_result.best_params_))"
      ]
    },
    {
      "cell_type": "code",
      "execution_count": null,
      "metadata": {
        "colab": {
          "base_uri": "https://localhost:8080/"
        },
        "id": "WBRcJmMs0h0D",
        "outputId": "2478d7dc-d707-4a30-c5f8-ec7ca2e2b780"
      },
      "outputs": [
        {
          "metadata": {
            "tags": null
          },
          "name": "stderr",
          "output_type": "stream",
          "text": [
            "/usr/local/lib/python3.7/dist-packages/keras/optimizer_v2/adam.py:105: UserWarning: The `lr` argument is deprecated, use `learning_rate` instead.\n",
            "  super(Adam, self).__init__(name, **kwargs)\n"
          ]
        },
        {
          "output_type": "stream",
          "name": "stdout",
          "text": [
            "Epoch 1/20\n",
            "1295/1295 [==============================] - 243s 183ms/step - loss: 0.2319 - accuracy: 0.9113 - val_loss: 0.6576 - val_accuracy: 0.7793\n",
            "Epoch 2/20\n",
            "1295/1295 [==============================] - 237s 183ms/step - loss: 0.1492 - accuracy: 0.9485 - val_loss: 0.6043 - val_accuracy: 0.8006\n",
            "Epoch 3/20\n",
            "1295/1295 [==============================] - 237s 183ms/step - loss: 0.1314 - accuracy: 0.9549 - val_loss: 0.6667 - val_accuracy: 0.8049\n",
            "Epoch 4/20\n",
            "1295/1295 [==============================] - 234s 181ms/step - loss: 0.1205 - accuracy: 0.9589 - val_loss: 0.5663 - val_accuracy: 0.7939\n",
            "Epoch 5/20\n",
            "1295/1295 [==============================] - 234s 181ms/step - loss: 0.1117 - accuracy: 0.9631 - val_loss: 0.5647 - val_accuracy: 0.8300\n",
            "Epoch 6/20\n",
            "1295/1295 [==============================] - 238s 184ms/step - loss: 0.1060 - accuracy: 0.9633 - val_loss: 0.5749 - val_accuracy: 0.8178\n",
            "Epoch 7/20\n",
            "1295/1295 [==============================] - 240s 186ms/step - loss: 0.1008 - accuracy: 0.9659 - val_loss: 0.6067 - val_accuracy: 0.8142\n",
            "Epoch 8/20\n",
            "1295/1295 [==============================] - 245s 189ms/step - loss: 0.0968 - accuracy: 0.9677 - val_loss: 0.6450 - val_accuracy: 0.8077\n",
            "Epoch 9/20\n",
            "1295/1295 [==============================] - 246s 190ms/step - loss: 0.0929 - accuracy: 0.9686 - val_loss: 0.6202 - val_accuracy: 0.8400\n",
            "Epoch 10/20\n",
            "1295/1295 [==============================] - 239s 185ms/step - loss: 0.0875 - accuracy: 0.9701 - val_loss: 0.7013 - val_accuracy: 0.8249\n",
            "Epoch 11/20\n",
            "1295/1295 [==============================] - 236s 182ms/step - loss: 0.0855 - accuracy: 0.9713 - val_loss: 0.6093 - val_accuracy: 0.8303\n",
            "Epoch 12/20\n",
            "1295/1295 [==============================] - 234s 181ms/step - loss: 0.0825 - accuracy: 0.9726 - val_loss: 0.6430 - val_accuracy: 0.8379\n",
            "Epoch 13/20\n",
            "1295/1295 [==============================] - 234s 181ms/step - loss: 0.0779 - accuracy: 0.9730 - val_loss: 0.5656 - val_accuracy: 0.8322\n"
          ]
        }
      ],
      "source": [
        "from keras.layers import Conv1D,BatchNormalization, Flatten, Dense, Dropout,MaxPool1D\n",
        "from keras.callbacks import EarlyStopping, ModelCheckpoint\n",
        "from sklearn.model_selection import GridSearchCV\n",
        "from keras.wrappers.scikit_learn import KerasClassifier\n",
        "train_params = {\n",
        "    \"batch_size\": 64,\n",
        "    \"epochs\": 20,\n",
        "    \"verbose\": 1,\n",
        "    \"validation_data\": (X_val, y_val),\n",
        "}\n",
        "\n",
        "cnn_lstm_model = Sequential([\n",
        "    TimeDistributed(\n",
        "        Conv1D(\n",
        "            filters=16,\n",
        "            kernel_size=4,\n",
        "            strides=1,\n",
        "            padding=\"same\",\n",
        "            activation=\"relu\"\n",
        "        ), \n",
        "        input_shape=(n_subsequences, subsequence_size, n_features)\n",
        "    ),\n",
        "    BatchNormalization(),\n",
        "    Dropout(0.3),\n",
        "    TimeDistributed(Conv1D(filters=8,kernel_size=4,strides=1,padding=\"same\",activation=\"relu\")),\n",
        "    BatchNormalization(),\n",
        "    Dropout(0.3),\n",
        "    TimeDistributed(Flatten()),\n",
        "    LSTM(units=8,activation=\"tanh\"),\n",
        "    Dropout(0.3),\n",
        "\n",
        "    Dense(\n",
        "        1,\n",
        "        activation=\"sigmoid\",\n",
        "        name=\"output\",\n",
        "    )\n",
        "    ])\n",
        "callbacks = [EarlyStopping(monitor='val_loss', patience=8),\n",
        "ModelCheckpoint(filepath='best_model.h5', monitor='val_loss', save_best_only=True)]\n",
        "optimizer = Adam(lr=0.001)\n",
        "# Compiling the model\n",
        "cnn_lstm_model.compile(\n",
        "    optimizer=optimizer,\n",
        "    loss=\"binary_crossentropy\",\n",
        "    metrics=[\"accuracy\"]\n",
        ")\n",
        "history_cnn_lstm = cnn_lstm_model.fit(X_train, y_train,callbacks=callbacks,**train_params)"
      ]
    },
    {
      "cell_type": "code",
      "execution_count": null,
      "metadata": {
        "colab": {
          "base_uri": "https://localhost:8080/"
        },
        "id": "bQqltzx90h0D",
        "outputId": "eb19bbb5-a46f-4db9-aca3-38629f833596"
      },
      "outputs": [
        {
          "output_type": "stream",
          "name": "stdout",
          "text": [
            "821/821 [==============================] - 23s 26ms/step - loss: 0.5647 - accuracy: 0.8300\n"
          ]
        },
        {
          "output_type": "execute_result",
          "data": {
            "text/plain": [
              "[0.5647323727607727, 0.8299630880355835]"
            ]
          },
          "metadata": {},
          "execution_count": 31
        }
      ],
      "source": [
        "import tensorflow as tf\n",
        "model = tf.keras.models.load_model('/content/best_model.h5')\n",
        "model.evaluate(X_val, y_val)"
      ]
    },
    {
      "cell_type": "code",
      "execution_count": null,
      "metadata": {
        "colab": {
          "base_uri": "https://localhost:8080/",
          "height": 295
        },
        "id": "0uUSKRkf0h0D",
        "outputId": "e49c3fbf-93e0-4673-a456-6cc99173f281"
      },
      "outputs": [
        {
          "output_type": "display_data",
          "data": {
            "image/png": "[encoded data removed]",
            "text/plain": [
              "<Figure size 432x288 with 1 Axes>"
            ]
          },
          "metadata": {
            "needs_background": "light"
          }
        }
      ],
      "source": [
        "# summarize history for accuracy\n",
        "plt.plot(history_cnn_lstm.history['accuracy'])\n",
        "plt.plot(history_cnn_lstm.history['val_accuracy'])\n",
        "plt.title('CNN-LSTM model accuracy')\n",
        "plt.ylabel('accuracy')\n",
        "plt.xlabel('epoch')\n",
        "plt.legend(['train', 'test'], loc='upper left')\n",
        "plt.show()"
      ]
    },
    {
      "cell_type": "code",
      "execution_count": null,
      "metadata": {
        "colab": {
          "base_uri": "https://localhost:8080/",
          "height": 295
        },
        "id": "d94oB91N0h0E",
        "outputId": "9dfaa6fc-ec63-4c16-cb01-a07c15ce251c"
      },
      "outputs": [
        {
          "output_type": "display_data",
          "data": {
            "image/png": "[encoded data removed]",
            "text/plain": [
              "<Figure size 432x288 with 1 Axes>"
            ]
          },
          "metadata": {
            "needs_background": "light"
          }
        }
      ],
      "source": [
        "# summarize history for loss\n",
        "plt.plot(history_cnn_lstm.history['loss'])\n",
        "plt.plot(history_cnn_lstm.history['val_loss'])\n",
        "plt.title('CNN-LSTM model loss')\n",
        "plt.ylabel('loss')\n",
        "plt.xlabel('epoch')\n",
        "plt.legend(['train', 'test'], loc='upper left')\n",
        "plt.show()"
      ]
    },
    {
      "cell_type": "markdown",
      "source": [
        "### ***Personalized learning***"
      ],
      "metadata": {
        "id": "nvcyrXkdmGtc"
      }
    },
    {
      "cell_type": "code",
      "execution_count": null,
      "metadata": {
        "id": "-gWD8hDAmNaK"
      },
      "outputs": [],
      "source": [
        "all_sequences = []\n",
        "all_labels = []\n",
        "window_size = 300 #size of the window corresponds to 300 sample which corresponds approximately to 1 single heartbeat \n",
        "subject_map = []\n",
        "for subject in [202,201]: #iterate over the different records \n",
        "    record = wfdb.rdrecord(f'mit-bih-arrhythmia-database-1.0.0/{subject}') #read record for subject x\n",
        "    annotation = wfdb.rdann(f'mit-bih-arrhythmia-database-1.0.0/{subject}', 'atr') #read annotation file for subject x\n",
        "    atr_symbol = annotation.symbol #atr_symbol contains the annotation of each beat (normal or PVC or ...)\n",
        "    atr_sample = annotation.sample #atr_sample contains the location of the R position in the dataset\n",
        "    fs = record.fs #sampling frequency\n",
        "    scaler = StandardScaler() #standardize features by removing the mean and scaling to unit variance\n",
        "    signal = scaler.fit_transform(record.p_signal) #standardize the signal\n",
        "    subject_labels = []\n",
        "    for i, i_sample in enumerate(atr_sample): #enumerate over the location of the beats, i is the index and i_sample is the location\n",
        "        label = classify_beat(atr_symbol[i]) #classify the symbol into normal and abnormal, if normal 0, if abnormal 1, else None\n",
        "        sequence = get_sequence(signal, i_sample, window_size, fs) #get the sequence related to that heartbeat\n",
        "        if label is not None and sequence.size > 0: #verify that the beat is valid and the sequence is not empty\n",
        "            all_sequences.append(sequence) #append the sequences in one ssequence for the same record\n",
        "            subject_labels.append(label) #subject labels contains labels for the subject\n",
        "    abnormal_percentage = sum(subject_labels) / len(subject_labels) #the percentage of normal beats\n",
        "    abnormal_number= sum(subject_labels)\n",
        "    normal_number=len(subject_labels)-abnormal_number\n",
        "    subject_map.append({\n",
        "        \"subject\": subject,\n",
        "        \"percentage\": abnormal_percentage,\n",
        "        \"n° normal beats\":normal_number,\n",
        "        \"n° abnormal beats\": abnormal_number,\n",
        "        \"num_seq\": len(subject_labels),\n",
        "        \"start\": len(all_labels),\n",
        "        \"end\": len(all_labels)+len(subject_labels)\n",
        "    })\n",
        "    all_labels.extend(subject_labels)\n",
        "#after executing this cell, all sequences will contain all sequences and all labels for each subjects"
      ]
    },
    {
      "cell_type": "code",
      "execution_count": null,
      "metadata": {
        "id": "5d7O1K2UmNaL"
      },
      "outputs": [],
      "source": [
        "subject_map = pd.DataFrame(subject_map)"
      ]
    },
    {
      "cell_type": "code",
      "source": [
        "subject_map"
      ],
      "metadata": {
        "colab": {
          "base_uri": "https://localhost:8080/",
          "height": 112
        },
        "id": "THds0ZWyvN68",
        "outputId": "09b0e1d0-96ae-4ccb-94ee-83d2594fb0bc"
      },
      "execution_count": null,
      "outputs": [
        {
          "output_type": "execute_result",
          "data": {
            "text/html": [
              "\n",
              "  <div id=\"df-2e8c628d-9b52-45bf-b8c7-8e86ffae2f95\">\n",
              "    <div class=\"colab-df-container\">\n",
              "      <div>\n",
              "<style scoped>\n",
              "    .dataframe tbody tr th:only-of-type {\n",
              "        vertical-align: middle;\n",
              "    }\n",
              "\n",
              "    .dataframe tbody tr th {\n",
              "        vertical-align: top;\n",
              "    }\n",
              "\n",
              "    .dataframe thead th {\n",
              "        text-align: right;\n",
              "    }\n",
              "</style>\n",
              "<table border=\"1\" class=\"dataframe\">\n",
              "  <thead>\n",
              "    <tr style=\"text-align: right;\">\n",
              "      <th></th>\n",
              "      <th>subject</th>\n",
              "      <th>percentage</th>\n",
              "      <th>n° normal beats</th>\n",
              "      <th>n° abnormal beats</th>\n",
              "      <th>num_seq</th>\n",
              "      <th>start</th>\n",
              "      <th>end</th>\n",
              "    </tr>\n",
              "  </thead>\n",
              "  <tbody>\n",
              "    <tr>\n",
              "      <th>0</th>\n",
              "      <td>202</td>\n",
              "      <td>0.035129</td>\n",
              "      <td>2060</td>\n",
              "      <td>75</td>\n",
              "      <td>2135</td>\n",
              "      <td>0</td>\n",
              "      <td>2135</td>\n",
              "    </tr>\n",
              "    <tr>\n",
              "      <th>1</th>\n",
              "      <td>201</td>\n",
              "      <td>0.172185</td>\n",
              "      <td>1625</td>\n",
              "      <td>338</td>\n",
              "      <td>1963</td>\n",
              "      <td>2135</td>\n",
              "      <td>4098</td>\n",
              "    </tr>\n",
              "  </tbody>\n",
              "</table>\n",
              "</div>\n",
              "      <button class=\"colab-df-convert\" onclick=\"convertToInteractive('df-2e8c628d-9b52-45bf-b8c7-8e86ffae2f95')\"\n",
              "              title=\"Convert this dataframe to an interactive table.\"\n",
              "              style=\"display:none;\">\n",
              "        \n",
              "  <svg xmlns=\"http://www.w3.org/2000/svg\" height=\"24px\"viewBox=\"0 0 24 24\"\n",
              "       width=\"24px\">\n",
              "    <path d=\"M0 0h24v24H0V0z\" fill=\"none\"/>\n",
              "    <path d=\"M18.56 5.44l.94 2.06.94-2.06 2.06-.94-2.06-.94-.94-2.06-.94 2.06-2.06.94zm-11 1L8.5 8.5l.94-2.06 2.06-.94-2.06-.94L8.5 2.5l-.94 2.06-2.06.94zm10 10l.94 2.06.94-2.06 2.06-.94-2.06-.94-.94-2.06-.94 2.06-2.06.94z\"/><path d=\"M17.41 7.96l-1.37-1.37c-.4-.4-.92-.59-1.43-.59-.52 0-1.04.2-1.43.59L10.3 9.45l-7.72 7.72c-.78.78-.78 2.05 0 2.83L4 21.41c.39.39.9.59 1.41.59.51 0 1.02-.2 1.41-.59l7.78-7.78 2.81-2.81c.8-.78.8-2.07 0-2.86zM5.41 20L4 18.59l7.72-7.72 1.47 1.35L5.41 20z\"/>\n",
              "  </svg>\n",
              "      </button>\n",
              "      \n",
              "  <style>\n",
              "    .colab-df-container {\n",
              "      display:flex;\n",
              "      flex-wrap:wrap;\n",
              "      gap: 12px;\n",
              "    }\n",
              "\n",
              "    .colab-df-convert {\n",
              "      background-color: #E8F0FE;\n",
              "      border: none;\n",
              "      border-radius: 50%;\n",
              "      cursor: pointer;\n",
              "      display: none;\n",
              "      fill: #1967D2;\n",
              "      height: 32px;\n",
              "      padding: 0 0 0 0;\n",
              "      width: 32px;\n",
              "    }\n",
              "\n",
              "    .colab-df-convert:hover {\n",
              "      background-color: #E2EBFA;\n",
              "      box-shadow: 0px 1px 2px rgba(60, 64, 67, 0.3), 0px 1px 3px 1px rgba(60, 64, 67, 0.15);\n",
              "      fill: #174EA6;\n",
              "    }\n",
              "\n",
              "    [theme=dark] .colab-df-convert {\n",
              "      background-color: #3B4455;\n",
              "      fill: #D2E3FC;\n",
              "    }\n",
              "\n",
              "    [theme=dark] .colab-df-convert:hover {\n",
              "      background-color: #434B5C;\n",
              "      box-shadow: 0px 1px 3px 1px rgba(0, 0, 0, 0.15);\n",
              "      filter: drop-shadow(0px 1px 2px rgba(0, 0, 0, 0.3));\n",
              "      fill: #FFFFFF;\n",
              "    }\n",
              "  </style>\n",
              "\n",
              "      <script>\n",
              "        const buttonEl =\n",
              "          document.querySelector('#df-2e8c628d-9b52-45bf-b8c7-8e86ffae2f95 button.colab-df-convert');\n",
              "        buttonEl.style.display =\n",
              "          google.colab.kernel.accessAllowed ? 'block' : 'none';\n",
              "\n",
              "        async function convertToInteractive(key) {\n",
              "          const element = document.querySelector('#df-2e8c628d-9b52-45bf-b8c7-8e86ffae2f95');\n",
              "          const dataTable =\n",
              "            await google.colab.kernel.invokeFunction('convertToInteractive',\n",
              "                                                     [key], {});\n",
              "          if (!dataTable) return;\n",
              "\n",
              "          const docLinkHtml = 'Like what you see? Visit the ' +\n",
              "            '<a target=\"_blank\" href=https://colab.research.google.com/notebooks/data_table.ipynb>data table notebook</a>'\n",
              "            + ' to learn more about interactive tables.';\n",
              "          element.innerHTML = '';\n",
              "          dataTable['output_type'] = 'display_data';\n",
              "          await google.colab.output.renderOutput(dataTable, element);\n",
              "          const docLink = document.createElement('div');\n",
              "          docLink.innerHTML = docLinkHtml;\n",
              "          element.appendChild(docLink);\n",
              "        }\n",
              "      </script>\n",
              "    </div>\n",
              "  </div>\n",
              "  "
            ],
            "text/plain": [
              "   subject  percentage  n° normal beats  ...  num_seq  start   end\n",
              "0      202    0.035129             2060  ...     2135      0  2135\n",
              "1      201    0.172185             1625  ...     1963   2135  4098\n",
              "\n",
              "[2 rows x 7 columns]"
            ]
          },
          "metadata": {},
          "execution_count": 102
        }
      ]
    },
    {
      "cell_type": "code",
      "execution_count": null,
      "metadata": {
        "id": "rpVJdZpamNaM"
      },
      "outputs": [],
      "source": [
        "#segment data according to the percentage of abnormalities, intervals are shown in bins [0,0.2], [0.2,0.6],[0.6,1]\n",
        "bins = [0, 0.2, 0.6, 1.0]\n",
        "subject_map[\"bin\"] = pd.cut(subject_map['percentage'], bins=bins, labels=False, include_lowest=True)"
      ]
    },
    {
      "cell_type": "code",
      "source": [
        "subject_map"
      ],
      "metadata": {
        "colab": {
          "base_uri": "https://localhost:8080/",
          "height": 112
        },
        "id": "Ien55ruKaGqN",
        "outputId": "09392b57-1f72-4dfd-f4e2-c7ecd0338ea9"
      },
      "execution_count": null,
      "outputs": [
        {
          "output_type": "execute_result",
          "data": {
            "text/html": [
              "\n",
              "  <div id=\"df-746e6497-2d02-46f8-a629-0aa4635333da\">\n",
              "    <div class=\"colab-df-container\">\n",
              "      <div>\n",
              "<style scoped>\n",
              "    .dataframe tbody tr th:only-of-type {\n",
              "        vertical-align: middle;\n",
              "    }\n",
              "\n",
              "    .dataframe tbody tr th {\n",
              "        vertical-align: top;\n",
              "    }\n",
              "\n",
              "    .dataframe thead th {\n",
              "        text-align: right;\n",
              "    }\n",
              "</style>\n",
              "<table border=\"1\" class=\"dataframe\">\n",
              "  <thead>\n",
              "    <tr style=\"text-align: right;\">\n",
              "      <th></th>\n",
              "      <th>subject</th>\n",
              "      <th>percentage</th>\n",
              "      <th>n° normal beats</th>\n",
              "      <th>n° abnormal beats</th>\n",
              "      <th>num_seq</th>\n",
              "      <th>start</th>\n",
              "      <th>end</th>\n",
              "      <th>bin</th>\n",
              "    </tr>\n",
              "  </thead>\n",
              "  <tbody>\n",
              "    <tr>\n",
              "      <th>0</th>\n",
              "      <td>202</td>\n",
              "      <td>0.035129</td>\n",
              "      <td>2060</td>\n",
              "      <td>75</td>\n",
              "      <td>2135</td>\n",
              "      <td>0</td>\n",
              "      <td>2135</td>\n",
              "      <td>0</td>\n",
              "    </tr>\n",
              "    <tr>\n",
              "      <th>1</th>\n",
              "      <td>201</td>\n",
              "      <td>0.172185</td>\n",
              "      <td>1625</td>\n",
              "      <td>338</td>\n",
              "      <td>1963</td>\n",
              "      <td>2135</td>\n",
              "      <td>4098</td>\n",
              "      <td>0</td>\n",
              "    </tr>\n",
              "  </tbody>\n",
              "</table>\n",
              "</div>\n",
              "      <button class=\"colab-df-convert\" onclick=\"convertToInteractive('df-746e6497-2d02-46f8-a629-0aa4635333da')\"\n",
              "              title=\"Convert this dataframe to an interactive table.\"\n",
              "              style=\"display:none;\">\n",
              "        \n",
              "  <svg xmlns=\"http://www.w3.org/2000/svg\" height=\"24px\"viewBox=\"0 0 24 24\"\n",
              "       width=\"24px\">\n",
              "    <path d=\"M0 0h24v24H0V0z\" fill=\"none\"/>\n",
              "    <path d=\"M18.56 5.44l.94 2.06.94-2.06 2.06-.94-2.06-.94-.94-2.06-.94 2.06-2.06.94zm-11 1L8.5 8.5l.94-2.06 2.06-.94-2.06-.94L8.5 2.5l-.94 2.06-2.06.94zm10 10l.94 2.06.94-2.06 2.06-.94-2.06-.94-.94-2.06-.94 2.06-2.06.94z\"/><path d=\"M17.41 7.96l-1.37-1.37c-.4-.4-.92-.59-1.43-.59-.52 0-1.04.2-1.43.59L10.3 9.45l-7.72 7.72c-.78.78-.78 2.05 0 2.83L4 21.41c.39.39.9.59 1.41.59.51 0 1.02-.2 1.41-.59l7.78-7.78 2.81-2.81c.8-.78.8-2.07 0-2.86zM5.41 20L4 18.59l7.72-7.72 1.47 1.35L5.41 20z\"/>\n",
              "  </svg>\n",
              "      </button>\n",
              "      \n",
              "  <style>\n",
              "    .colab-df-container {\n",
              "      display:flex;\n",
              "      flex-wrap:wrap;\n",
              "      gap: 12px;\n",
              "    }\n",
              "\n",
              "    .colab-df-convert {\n",
              "      background-color: #E8F0FE;\n",
              "      border: none;\n",
              "      border-radius: 50%;\n",
              "      cursor: pointer;\n",
              "      display: none;\n",
              "      fill: #1967D2;\n",
              "      height: 32px;\n",
              "      padding: 0 0 0 0;\n",
              "      width: 32px;\n",
              "    }\n",
              "\n",
              "    .colab-df-convert:hover {\n",
              "      background-color: #E2EBFA;\n",
              "      box-shadow: 0px 1px 2px rgba(60, 64, 67, 0.3), 0px 1px 3px 1px rgba(60, 64, 67, 0.15);\n",
              "      fill: #174EA6;\n",
              "    }\n",
              "\n",
              "    [theme=dark] .colab-df-convert {\n",
              "      background-color: #3B4455;\n",
              "      fill: #D2E3FC;\n",
              "    }\n",
              "\n",
              "    [theme=dark] .colab-df-convert:hover {\n",
              "      background-color: #434B5C;\n",
              "      box-shadow: 0px 1px 3px 1px rgba(0, 0, 0, 0.15);\n",
              "      filter: drop-shadow(0px 1px 2px rgba(0, 0, 0, 0.3));\n",
              "      fill: #FFFFFF;\n",
              "    }\n",
              "  </style>\n",
              "\n",
              "      <script>\n",
              "        const buttonEl =\n",
              "          document.querySelector('#df-746e6497-2d02-46f8-a629-0aa4635333da button.colab-df-convert');\n",
              "        buttonEl.style.display =\n",
              "          google.colab.kernel.accessAllowed ? 'block' : 'none';\n",
              "\n",
              "        async function convertToInteractive(key) {\n",
              "          const element = document.querySelector('#df-746e6497-2d02-46f8-a629-0aa4635333da');\n",
              "          const dataTable =\n",
              "            await google.colab.kernel.invokeFunction('convertToInteractive',\n",
              "                                                     [key], {});\n",
              "          if (!dataTable) return;\n",
              "\n",
              "          const docLinkHtml = 'Like what you see? Visit the ' +\n",
              "            '<a target=\"_blank\" href=https://colab.research.google.com/notebooks/data_table.ipynb>data table notebook</a>'\n",
              "            + ' to learn more about interactive tables.';\n",
              "          element.innerHTML = '';\n",
              "          dataTable['output_type'] = 'display_data';\n",
              "          await google.colab.output.renderOutput(dataTable, element);\n",
              "          const docLink = document.createElement('div');\n",
              "          docLink.innerHTML = docLinkHtml;\n",
              "          element.appendChild(docLink);\n",
              "        }\n",
              "      </script>\n",
              "    </div>\n",
              "  </div>\n",
              "  "
            ],
            "text/plain": [
              "   subject  percentage  n° normal beats  ...  start   end  bin\n",
              "0      202    0.035129             2060  ...      0  2135    0\n",
              "1      201    0.172185             1625  ...   2135  4098    0\n",
              "\n",
              "[2 rows x 8 columns]"
            ]
          },
          "metadata": {},
          "execution_count": 104
        }
      ]
    },
    {
      "cell_type": "code",
      "execution_count": null,
      "metadata": {
        "id": "xL6hTpVWmNaN"
      },
      "outputs": [],
      "source": [
        "#This stratify parameter makes a split so that the proportion of values in the sample produced\n",
        "#will be the same as the proportion of values provided to parameter stratify\n",
        "train, validation = train_test_split(subject_map, test_size=0.2, stratify=subject_map[\"bin\"], random_state=42)\n",
        "#stratify=subject_map[\"bin\"],\n",
        "#if record comtains a percentage between 0 and 0.2 it's bin value is 0, if it's between 0.2 and 0.6 it's bin value is 1, if between 0.6 and 1\n",
        "#the bin value will be 2\n",
        "#The stratified split will impose the existence of the same proportion of bins between both sets which means same proprtion of normality and abnormality"
      ]
    },
    {
      "cell_type": "code",
      "execution_count": null,
      "metadata": {
        "id": "VJZh1OGimNaO"
      },
      "outputs": [],
      "source": [
        "#This function build a dataset based on the map for each split\n",
        "def build_dataset(df, all_sequences, all_labels):\n",
        "    sequences = []\n",
        "    labels = []\n",
        "    for i, row in df.iterrows():\n",
        "        begin = int(row[\"start\"])\n",
        "        end = int(row[\"end\"])\n",
        "        sequences.extend(all_sequences[begin:end])\n",
        "        labels.extend(all_labels[begin:end])\n",
        "        \n",
        "    return np.vstack(sequences), np.vstack(labels)"
      ]
    },
    {
      "cell_type": "code",
      "execution_count": null,
      "metadata": {
        "id": "pArzH5f5mNaO"
      },
      "outputs": [],
      "source": [
        "X_train, y_train = build_dataset(train, all_sequences, all_labels)\n",
        "X_val, y_val = build_dataset(validation, all_sequences, all_labels)"
      ]
    },
    {
      "cell_type": "markdown",
      "metadata": {
        "id": "4w-Nc-U6mNaO"
      },
      "source": [
        "### CNN model"
      ]
    },
    {
      "cell_type": "markdown",
      "source": [
        "Import modules"
      ],
      "metadata": {
        "id": "Mln3JB05ILzB"
      }
    },
    {
      "cell_type": "code",
      "source": [
        "from keras.models import Sequential\n",
        "from keras.layers import Conv1D, Flatten, Dense, Dropout\n",
        "from tensorflow.keras.optimizers import Adam\n",
        "from tensorflow.keras.optimizers import SGD\n",
        "from tensorflow.keras import regularizers"
      ],
      "metadata": {
        "id": "d0NKqb5xIPH_"
      },
      "execution_count": null,
      "outputs": []
    },
    {
      "cell_type": "code",
      "execution_count": null,
      "metadata": {
        "colab": {
          "base_uri": "https://localhost:8080/"
        },
        "outputId": "41172ce0-1a50-4d9c-cff2-ed3a0ceee192",
        "id": "NX8UEa_XmX3j"
      },
      "outputs": [
        {
          "output_type": "stream",
          "name": "stdout",
          "text": [
            "Model: \"sequential_3\"\n",
            "_________________________________________________________________\n",
            " Layer (type)                Output Shape              Param #   \n",
            "=================================================================\n",
            " conv1d_3 (Conv1D)           (None, 300, 2)            10        \n",
            "                                                                 \n",
            " flatten_3 (Flatten)         (None, 600)               0         \n",
            "                                                                 \n",
            " dropout_2 (Dropout)         (None, 600)               0         \n",
            "                                                                 \n",
            " output (Dense)              (None, 1)                 601       \n",
            "                                                                 \n",
            "=================================================================\n",
            "Total params: 611\n",
            "Trainable params: 611\n",
            "Non-trainable params: 0\n",
            "_________________________________________________________________\n"
          ]
        }
      ],
      "source": [
        "sequence_size = X_train.shape[1]\n",
        "n_features = 1\n",
        "#Define the architecture of the CNN network \n",
        "cnn_model = Sequential([\n",
        "    Conv1D(\n",
        "        filters=2,\n",
        "        kernel_size=4,\n",
        "        strides=1,\n",
        "        input_shape=(sequence_size, n_features),\n",
        "        padding=\"same\",\n",
        "        activation=\"relu\",\n",
        "        kernel_regularizer=regularizers.l2(l=0.01)\n",
        "    ),\n",
        "    Flatten(),\n",
        "    Dropout(0.7),\n",
        "    Dense(\n",
        "        1,\n",
        "        activation=\"sigmoid\",\n",
        "        name=\"output\",\n",
        "    )\n",
        "])\n",
        "\n",
        "optimizer = Adam(0.01)\n",
        "# Compiling the model\n",
        "cnn_model.compile(\n",
        "    optimizer=optimizer,\n",
        "    loss=\"binary_crossentropy\",\n",
        "    metrics=[\"accuracy\"]\n",
        ")\n",
        "cnn_model.summary()"
      ]
    },
    {
      "cell_type": "code",
      "execution_count": null,
      "metadata": {
        "colab": {
          "base_uri": "https://localhost:8080/"
        },
        "outputId": "96348521-6a1e-4f70-9e58-c518fb92b108",
        "id": "2kh43eVTmX3k"
      },
      "outputs": [
        {
          "output_type": "stream",
          "name": "stdout",
          "text": [
            "Epoch 1/15\n",
            "16/16 [==============================] - 1s 30ms/step - loss: 0.4473 - accuracy: 0.8299 - val_loss: 0.2158 - val_accuracy: 0.9686\n",
            "Epoch 2/15\n",
            "16/16 [==============================] - 0s 17ms/step - loss: 0.2740 - accuracy: 0.9328 - val_loss: 0.1492 - val_accuracy: 0.9752\n",
            "Epoch 3/15\n",
            "16/16 [==============================] - 0s 17ms/step - loss: 0.2085 - accuracy: 0.9480 - val_loss: 0.1252 - val_accuracy: 0.9766\n",
            "Epoch 4/15\n",
            "16/16 [==============================] - 0s 15ms/step - loss: 0.1864 - accuracy: 0.9506 - val_loss: 0.1376 - val_accuracy: 0.9738\n",
            "Epoch 5/15\n",
            "16/16 [==============================] - 0s 17ms/step - loss: 0.1877 - accuracy: 0.9480 - val_loss: 0.1806 - val_accuracy: 0.9625\n",
            "Epoch 6/15\n",
            "16/16 [==============================] - 0s 16ms/step - loss: 0.1745 - accuracy: 0.9562 - val_loss: 0.1284 - val_accuracy: 0.9775\n",
            "Epoch 7/15\n",
            "16/16 [==============================] - 0s 16ms/step - loss: 0.1618 - accuracy: 0.9608 - val_loss: 0.1233 - val_accuracy: 0.9789\n",
            "Epoch 8/15\n",
            "16/16 [==============================] - 0s 17ms/step - loss: 0.1678 - accuracy: 0.9608 - val_loss: 0.1377 - val_accuracy: 0.9733\n",
            "Epoch 9/15\n",
            "16/16 [==============================] - 0s 16ms/step - loss: 0.1721 - accuracy: 0.9582 - val_loss: 0.1216 - val_accuracy: 0.9789\n",
            "Epoch 10/15\n",
            "16/16 [==============================] - 0s 16ms/step - loss: 0.1579 - accuracy: 0.9638 - val_loss: 0.1215 - val_accuracy: 0.9794\n",
            "Epoch 11/15\n",
            "16/16 [==============================] - 0s 16ms/step - loss: 0.1636 - accuracy: 0.9623 - val_loss: 0.1129 - val_accuracy: 0.9789\n",
            "Epoch 12/15\n",
            "16/16 [==============================] - 0s 16ms/step - loss: 0.1655 - accuracy: 0.9592 - val_loss: 0.1182 - val_accuracy: 0.9761\n",
            "Epoch 13/15\n",
            "16/16 [==============================] - 0s 16ms/step - loss: 0.1513 - accuracy: 0.9643 - val_loss: 0.1197 - val_accuracy: 0.9785\n",
            "Epoch 14/15\n",
            "16/16 [==============================] - 0s 17ms/step - loss: 0.1471 - accuracy: 0.9613 - val_loss: 0.1249 - val_accuracy: 0.9761\n",
            "Epoch 15/15\n",
            "16/16 [==============================] - 0s 16ms/step - loss: 0.1561 - accuracy: 0.9659 - val_loss: 0.1216 - val_accuracy: 0.9785\n"
          ]
        }
      ],
      "source": [
        "hist_cnn = cnn_model.fit(\n",
        "    X_train, \n",
        "    y_train, \n",
        "    batch_size=128,\n",
        "    epochs=15,\n",
        "    validation_data=(X_val, y_val)\n",
        ") "
      ]
    },
    {
      "cell_type": "code",
      "execution_count": null,
      "metadata": {
        "colab": {
          "base_uri": "https://localhost:8080/"
        },
        "outputId": "fd69527f-edb3-4957-d798-dc764ead01e6",
        "id": "YueHMT9hmX3k"
      },
      "outputs": [
        {
          "output_type": "stream",
          "name": "stdout",
          "text": [
            "67/67 [==============================] - 0s 3ms/step - loss: 0.1216 - accuracy: 0.9785\n"
          ]
        },
        {
          "output_type": "execute_result",
          "data": {
            "text/plain": [
              "[0.12158545851707458, 0.9784543514251709]"
            ]
          },
          "metadata": {},
          "execution_count": 113
        }
      ],
      "source": [
        "cnn_model.evaluate(X_val, y_val)"
      ]
    },
    {
      "cell_type": "code",
      "source": [
        "!pip uninstall matplotlib\n",
        "!pip install matplotlib==3.1.3"
      ],
      "metadata": {
        "id": "fz5ZjZiMXbBp",
        "colab": {
          "base_uri": "https://localhost:8080/",
          "height": 591
        },
        "outputId": "6661b2e5-b2b0-47dd-ec61-db47e9ad6703"
      },
      "execution_count": null,
      "outputs": [
        {
          "output_type": "stream",
          "name": "stdout",
          "text": [
            "Found existing installation: matplotlib 3.1.3\n",
            "Uninstalling matplotlib-3.1.3:\n",
            "  Would remove:\n",
            "    /usr/local/lib/python3.7/dist-packages/matplotlib-3.1.3-py3.7-nspkg.pth\n",
            "    /usr/local/lib/python3.7/dist-packages/matplotlib-3.1.3.dist-info/*\n",
            "    /usr/local/lib/python3.7/dist-packages/matplotlib/*\n",
            "    /usr/local/lib/python3.7/dist-packages/mpl_toolkits/axes_grid/*\n",
            "    /usr/local/lib/python3.7/dist-packages/mpl_toolkits/axes_grid1/*\n",
            "    /usr/local/lib/python3.7/dist-packages/mpl_toolkits/axisartist/*\n",
            "    /usr/local/lib/python3.7/dist-packages/mpl_toolkits/mplot3d/*\n",
            "    /usr/local/lib/python3.7/dist-packages/mpl_toolkits/tests/*\n",
            "    /usr/local/lib/python3.7/dist-packages/pylab.py\n",
            "Proceed (y/n)? y\n",
            "  Successfully uninstalled matplotlib-3.1.3\n",
            "Collecting matplotlib==3.1.3\n",
            "  Using cached matplotlib-3.1.3-cp37-cp37m-manylinux1_x86_64.whl (13.1 MB)\n",
            "Requirement already satisfied: python-dateutil>=2.1 in /usr/local/lib/python3.7/dist-packages (from matplotlib==3.1.3) (2.8.2)\n",
            "Requirement already satisfied: pyparsing!=2.0.4,!=2.1.2,!=2.1.6,>=2.0.1 in /usr/local/lib/python3.7/dist-packages (from matplotlib==3.1.3) (3.0.7)\n",
            "Requirement already satisfied: numpy>=1.11 in /usr/local/lib/python3.7/dist-packages (from matplotlib==3.1.3) (1.21.5)\n",
            "Requirement already satisfied: cycler>=0.10 in /usr/local/lib/python3.7/dist-packages (from matplotlib==3.1.3) (0.11.0)\n",
            "Requirement already satisfied: kiwisolver>=1.0.1 in /usr/local/lib/python3.7/dist-packages (from matplotlib==3.1.3) (1.3.2)\n",
            "Requirement already satisfied: six>=1.5 in /usr/local/lib/python3.7/dist-packages (from python-dateutil>=2.1->matplotlib==3.1.3) (1.15.0)\n",
            "Installing collected packages: matplotlib\n",
            "\u001b[31mERROR: pip's dependency resolver does not currently take into account all the packages that are installed. This behaviour is the source of the following dependency conflicts.\n",
            "wfdb 3.4.1 requires matplotlib>=3.3.4, but you have matplotlib 3.1.3 which is incompatible.\n",
            "albumentations 0.1.12 requires imgaug<0.2.7,>=0.2.5, but you have imgaug 0.2.9 which is incompatible.\u001b[0m\n",
            "Successfully installed matplotlib-3.1.3\n"
          ]
        },
        {
          "output_type": "display_data",
          "data": {
            "application/vnd.colab-display-data+json": {
              "pip_warning": {
                "packages": [
                  "matplotlib",
                  "mpl_toolkits"
                ]
              }
            }
          },
          "metadata": {}
        }
      ]
    },
    {
      "cell_type": "code",
      "execution_count": null,
      "metadata": {
        "colab": {
          "base_uri": "https://localhost:8080/",
          "height": 295
        },
        "outputId": "cdd391d6-7d73-49e8-951e-a4dae11456de",
        "id": "22cHDEcJmX3p"
      },
      "outputs": [
        {
          "output_type": "display_data",
          "data": {
            "image/png": "[encoded data removed]",
            "text/plain": [
              "<Figure size 432x288 with 1 Axes>"
            ]
          },
          "metadata": {
            "needs_background": "light"
          }
        }
      ],
      "source": [
        "# summarize history for accuracy\n",
        "plt.plot(hist_cnn.history['accuracy'])\n",
        "plt.plot(hist_cnn.history['val_accuracy'])\n",
        "plt.title('CNN model accuracy')\n",
        "plt.ylabel('accuracy')\n",
        "plt.xlabel('epoch')\n",
        "plt.legend(['train', 'test'], loc='upper left')\n",
        "plt.show()"
      ]
    },
    {
      "cell_type": "code",
      "execution_count": null,
      "metadata": {
        "colab": {
          "base_uri": "https://localhost:8080/",
          "height": 295
        },
        "outputId": "b13c7f8f-27b7-4e1e-c975-97598af138dd",
        "id": "PYrbccpfmX3p"
      },
      "outputs": [
        {
          "output_type": "display_data",
          "data": {
            "image/png": "[encoded data removed]",
            "text/plain": [
              "<Figure size 432x288 with 1 Axes>"
            ]
          },
          "metadata": {
            "needs_background": "light"
          }
        }
      ],
      "source": [
        "# summarize history for loss\n",
        "plt.plot(hist_cnn.history['loss'])\n",
        "plt.plot(hist_cnn.history['val_loss'])\n",
        "plt.title('CNN model loss')\n",
        "plt.ylabel('loss')\n",
        "plt.xlabel('epoch')\n",
        "plt.legend(['train', 'test'], loc='upper left')\n",
        "plt.show()"
      ]
    },
    {
      "cell_type": "markdown",
      "metadata": {
        "id": "AmvDhSLzmNaP"
      },
      "source": [
        "### CNN with LSTM model"
      ]
    },
    {
      "cell_type": "code",
      "execution_count": null,
      "metadata": {
        "id": "WLC5wr2ymj_q"
      },
      "outputs": [],
      "source": [
        "sequence_size = X_train.shape[1]\n",
        "n_features = 1 \n",
        "n_subsequences = 4\n",
        "subsequence_size = int(sequence_size / n_subsequences)\n",
        "\n",
        "# Reshaping to be (samples, subsequences, sequence, feature)\n",
        "X_train = X_train.reshape(-1, n_subsequences, subsequence_size, n_features)\n",
        "X_val = X_val.reshape(-1, n_subsequences, subsequence_size, n_features)"
      ]
    },
    {
      "cell_type": "code",
      "execution_count": null,
      "metadata": {
        "id": "LAY-QB62mj_s",
        "colab": {
          "base_uri": "https://localhost:8080/"
        },
        "outputId": "0ba08f14-9428-492f-a5f2-6e2f6e56cadd"
      },
      "outputs": [
        {
          "output_type": "stream",
          "name": "stdout",
          "text": [
            "Model: \"sequential_4\"\n",
            "_________________________________________________________________\n",
            " Layer (type)                Output Shape              Param #   \n",
            "=================================================================\n",
            " time_distributed_2 (TimeDis  (None, 4, 75, 8)         40        \n",
            " tributed)                                                       \n",
            "                                                                 \n",
            " time_distributed_3 (TimeDis  (None, 4, 600)           0         \n",
            " tributed)                                                       \n",
            "                                                                 \n",
            " lstm_1 (LSTM)               (None, 4)                 9680      \n",
            "                                                                 \n",
            " output (Dense)              (None, 1)                 5         \n",
            "                                                                 \n",
            "=================================================================\n",
            "Total params: 9,725\n",
            "Trainable params: 9,725\n",
            "Non-trainable params: 0\n",
            "_________________________________________________________________\n"
          ]
        },
        {
          "output_type": "stream",
          "name": "stderr",
          "text": [
            "/usr/local/lib/python3.7/dist-packages/keras/optimizer_v2/adam.py:105: UserWarning: The `lr` argument is deprecated, use `learning_rate` instead.\n",
            "  super(Adam, self).__init__(name, **kwargs)\n"
          ]
        }
      ],
      "source": [
        "cnn_lstm_model = Sequential([\n",
        "    TimeDistributed(\n",
        "        Conv1D(\n",
        "            filters=8,\n",
        "            kernel_size=4,\n",
        "            strides=1,\n",
        "            padding=\"same\",\n",
        "            activation=\"relu\"\n",
        "        ), \n",
        "        input_shape=(n_subsequences, subsequence_size, n_features)\n",
        "    ),\n",
        "    TimeDistributed(Flatten()),\n",
        "    LSTM(units=4),\n",
        "    Dense(\n",
        "        1,\n",
        "        activation=\"sigmoid\",\n",
        "        name=\"output\",\n",
        "    )\n",
        "])\n",
        "\n",
        "optimizer = Adam(lr=0.001)\n",
        "# Compiling the model\n",
        "cnn_lstm_model.compile(\n",
        "    optimizer=optimizer,\n",
        "    loss=\"binary_crossentropy\",\n",
        "    metrics=[\"accuracy\"]\n",
        ")\n",
        "cnn_lstm_model.summary()"
      ]
    },
    {
      "cell_type": "code",
      "execution_count": null,
      "metadata": {
        "id": "8oxjZxofmj_y",
        "colab": {
          "base_uri": "https://localhost:8080/"
        },
        "outputId": "2670c4a4-a071-4774-d2b2-cc521d8f701d"
      },
      "outputs": [
        {
          "output_type": "stream",
          "name": "stdout",
          "text": [
            "Epoch 1/15\n",
            "31/31 [==============================] - 4s 34ms/step - loss: 0.4766 - accuracy: 0.8095 - val_loss: 0.2550 - val_accuracy: 0.9653\n",
            "Epoch 2/15\n",
            "31/31 [==============================] - 1s 26ms/step - loss: 0.2368 - accuracy: 0.9358 - val_loss: 0.1805 - val_accuracy: 0.9630\n",
            "Epoch 3/15\n",
            "31/31 [==============================] - 1s 28ms/step - loss: 0.1673 - accuracy: 0.9536 - val_loss: 0.1497 - val_accuracy: 0.9663\n",
            "Epoch 4/15\n",
            "31/31 [==============================] - 1s 29ms/step - loss: 0.1344 - accuracy: 0.9674 - val_loss: 0.1273 - val_accuracy: 0.9705\n",
            "Epoch 5/15\n",
            "31/31 [==============================] - 1s 31ms/step - loss: 0.1222 - accuracy: 0.9705 - val_loss: 0.1272 - val_accuracy: 0.9691\n",
            "Epoch 6/15\n",
            "31/31 [==============================] - 1s 31ms/step - loss: 0.1149 - accuracy: 0.9710 - val_loss: 0.1196 - val_accuracy: 0.9705\n",
            "Epoch 7/15\n",
            "31/31 [==============================] - 1s 29ms/step - loss: 0.1095 - accuracy: 0.9725 - val_loss: 0.1216 - val_accuracy: 0.9677\n",
            "Epoch 8/15\n",
            "31/31 [==============================] - 1s 26ms/step - loss: 0.1062 - accuracy: 0.9720 - val_loss: 0.1207 - val_accuracy: 0.9677\n",
            "Epoch 9/15\n",
            "31/31 [==============================] - 1s 30ms/step - loss: 0.1024 - accuracy: 0.9740 - val_loss: 0.1108 - val_accuracy: 0.9710\n",
            "Epoch 10/15\n",
            "31/31 [==============================] - 1s 31ms/step - loss: 0.0996 - accuracy: 0.9740 - val_loss: 0.1099 - val_accuracy: 0.9686\n",
            "Epoch 11/15\n",
            "31/31 [==============================] - 1s 26ms/step - loss: 0.0968 - accuracy: 0.9745 - val_loss: 0.1099 - val_accuracy: 0.9681\n",
            "Epoch 12/15\n",
            "31/31 [==============================] - 1s 30ms/step - loss: 0.0939 - accuracy: 0.9755 - val_loss: 0.1080 - val_accuracy: 0.9686\n",
            "Epoch 13/15\n",
            "31/31 [==============================] - 1s 25ms/step - loss: 0.0931 - accuracy: 0.9761 - val_loss: 0.1084 - val_accuracy: 0.9681\n",
            "Epoch 14/15\n",
            "31/31 [==============================] - 1s 29ms/step - loss: 0.0909 - accuracy: 0.9761 - val_loss: 0.1073 - val_accuracy: 0.9681\n",
            "Epoch 15/15\n",
            "31/31 [==============================] - 1s 29ms/step - loss: 0.0878 - accuracy: 0.9776 - val_loss: 0.1067 - val_accuracy: 0.9691\n"
          ]
        }
      ],
      "source": [
        "train_params = {\n",
        "    \"batch_size\": 64,\n",
        "    \"epochs\": 15,\n",
        "    \"verbose\": 1,\n",
        "    \"validation_data\": (X_val, y_val),\n",
        "}\n",
        "\n",
        "history_cnn_lstm = cnn_lstm_model.fit(X_train, y_train, **train_params)"
      ]
    },
    {
      "cell_type": "code",
      "execution_count": null,
      "metadata": {
        "id": "urA_d8wSmj_0",
        "colab": {
          "base_uri": "https://localhost:8080/"
        },
        "outputId": "8d745e13-d930-4265-c149-db2d02ca9eb3"
      },
      "outputs": [
        {
          "output_type": "stream",
          "name": "stdout",
          "text": [
            "67/67 [==============================] - 0s 6ms/step - loss: 0.1067 - accuracy: 0.9691\n"
          ]
        },
        {
          "output_type": "execute_result",
          "data": {
            "text/plain": [
              "[0.10666579753160477, 0.9690866470336914]"
            ]
          },
          "metadata": {},
          "execution_count": 120
        }
      ],
      "source": [
        "cnn_lstm_model.evaluate(X_val, y_val)"
      ]
    },
    {
      "cell_type": "code",
      "execution_count": null,
      "metadata": {
        "id": "Q4lzUhcomj_1",
        "colab": {
          "base_uri": "https://localhost:8080/",
          "height": 295
        },
        "outputId": "4f160351-31d0-4646-9c7c-08c192c58f75"
      },
      "outputs": [
        {
          "output_type": "display_data",
          "data": {
            "image/png": "[encoded data removed]",
            "text/plain": [
              "<Figure size 432x288 with 1 Axes>"
            ]
          },
          "metadata": {
            "needs_background": "light"
          }
        }
      ],
      "source": [
        "# summarize history for accuracy\n",
        "plt.plot(history_cnn_lstm.history['accuracy'])\n",
        "plt.plot(history_cnn_lstm.history['val_accuracy'])\n",
        "plt.title('CNN-LSTM model accuracy')\n",
        "plt.ylabel('accuracy')\n",
        "plt.xlabel('epoch')\n",
        "plt.legend(['train', 'test'], loc='upper left')\n",
        "plt.show()"
      ]
    },
    {
      "cell_type": "code",
      "execution_count": null,
      "metadata": {
        "id": "EwZz8Y5Bmj_4",
        "colab": {
          "base_uri": "https://localhost:8080/",
          "height": 295
        },
        "outputId": "4fb29aed-c811-4ef2-eaba-e4dfcf4db0aa"
      },
      "outputs": [
        {
          "output_type": "display_data",
          "data": {
            "image/png": "[encoded data removed]",
            "text/plain": [
              "<Figure size 432x288 with 1 Axes>"
            ]
          },
          "metadata": {
            "needs_background": "light"
          }
        }
      ],
      "source": [
        "# summarize history for loss\n",
        "plt.plot(history_cnn_lstm.history['loss'])\n",
        "plt.plot(history_cnn_lstm.history['val_loss'])\n",
        "plt.title('CNN-LSTM model loss')\n",
        "plt.ylabel('loss')\n",
        "plt.xlabel('epoch')\n",
        "plt.legend(['train', 'test'], loc='upper left')\n",
        "plt.show()"
      ]
    }
  ],
  "metadata": {
    "colab": {
      "collapsed_sections": [],
      "name": "Norhen_Achraf_HDA.ipynb",
      "provenance": []
    },
    "kernelspec": {
      "display_name": "Python 3",
      "language": "python",
      "name": "python3"
    },
    "language_info": {
      "codemirror_mode": {
        "name": "ipython",
        "version": 3
      },
      "file_extension": ".py",
      "mimetype": "text/x-python",
      "name": "python",
      "nbconvert_exporter": "python",
      "pygments_lexer": "ipython3",
      "version": "3.7.5"
    }
  },
  "nbformat": 4,
  "nbformat_minor": 0
}